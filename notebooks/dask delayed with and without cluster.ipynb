{
 "cells": [
  {
   "cell_type": "code",
   "execution_count": 1,
   "metadata": {
    "collapsed": true
   },
   "outputs": [],
   "source": [
    "from dask import delayed"
   ]
  },
  {
   "cell_type": "code",
   "execution_count": 30,
   "metadata": {
    "collapsed": false
   },
   "outputs": [],
   "source": [
    "from time import sleep\n",
    "\n",
    "@delayed(pure=True)\n",
    "def load_data(**kwargs):\n",
    "    sleep(2)\n",
    "    print 'load data ...'\n",
    "    if kwargs:\n",
    "        print kwargs\n",
    "        return 'data_{}'.format(kwargs)\n",
    "    return 'data'\n",
    "\n",
    "\n",
    "@delayed(pure=True)\n",
    "def clean_data(data):\n",
    "    assert isinstance(data, str)\n",
    "    print 'clean data ...'\n",
    "    return 'cleaned_{}'.format(data)\n",
    "\n",
    "\n",
    "@delayed(pure=True)\n",
    "def analyze_data(cleaned_data, option=1, **other_options):\n",
    "    assert isinstance(cleaned_data, str)\n",
    "    print 'analyze data ...'\n",
    "    return 'analyzed_{}'.format(cleaned_data)\n",
    "\n"
   ]
  },
  {
   "cell_type": "markdown",
   "metadata": {},
   "source": [
    "First, let's define a lazy evaluation"
   ]
  },
  {
   "cell_type": "code",
   "execution_count": 43,
   "metadata": {
    "collapsed": true
   },
   "outputs": [],
   "source": []
  },
  {
   "cell_type": "code",
   "execution_count": 31,
   "metadata": {
    "collapsed": false
   },
   "outputs": [],
   "source": [
    "data = load_data(option=100)\n",
    "cleaned_data = clean_data(data)\n",
    "report = analyze_data(cleaned_data)"
   ]
  },
  {
   "cell_type": "code",
   "execution_count": 50,
   "metadata": {
    "collapsed": false
   },
   "outputs": [
    {
     "data": {
      "text/plain": [
       "{'analyze_data-cbad2fcaa889ae9082762cb17c96196a': (<function __main__.analyze_data>,\n",
       "  'clean_data-207cf24102392d8d4ae07af0ac1775e7'),\n",
       " 'clean_data-207cf24102392d8d4ae07af0ac1775e7': (<function __main__.clean_data>,\n",
       "  'load_data-12d583ad2ae510653086ec1950f4420f'),\n",
       " 'load_data-12d583ad2ae510653086ec1950f4420f': (<function apply>,\n",
       "  <function __main__.load_data>,\n",
       "  [],\n",
       "  (dict, [['option', 100]])),\n",
       " 'load_data-834d68ef7cac96a996e2c3c66224969c': (<function apply>,\n",
       "  <function __main__.load_data>,\n",
       "  [],\n",
       "  (dict, [['option', 200]]))}"
      ]
     },
     "execution_count": 50,
     "metadata": {},
     "output_type": "execute_result"
    }
   ],
   "source": [
    "from dask.delayed import to_task_dask\n",
    "data2 = load_data(option=200)\n",
    "task, dask = to_task_dask([report, data2])\n",
    "dict(dask)"
   ]
  },
  {
   "cell_type": "code",
   "execution_count": 59,
   "metadata": {
    "collapsed": false
   },
   "outputs": [
    {
     "data": {
      "text/plain": [
       "Delayed('analyze_data-cbad2fcaa889ae9082762cb17c96196a')"
      ]
     },
     "execution_count": 59,
     "metadata": {},
     "output_type": "execute_result"
    }
   ],
   "source": [
    "report"
   ]
  },
  {
   "cell_type": "markdown",
   "metadata": {},
   "source": [
    "We can visualize the graph of computations"
   ]
  },
  {
   "cell_type": "code",
   "execution_count": 7,
   "metadata": {
    "collapsed": false
   },
   "outputs": [
    {
     "data": {
      "image/svg+xml": [
       "<svg height=\"360pt\" viewBox=\"0.00 0.00 73.61 360.00\" width=\"74pt\" xmlns=\"http://www.w3.org/2000/svg\" xmlns:xlink=\"http://www.w3.org/1999/xlink\">\n",
       "<g class=\"graph\" id=\"graph0\" transform=\"scale(0.555537 0.555537) rotate(0) translate(4 644.022)\">\n",
       "<title>%3</title>\n",
       "<polygon fill=\"white\" points=\"-4,4 -4,-644.022 128.5,-644.022 128.5,4 -4,4\" stroke=\"none\"/>\n",
       "<!-- &#45;1225948872061902021 -->\n",
       "<g class=\"node\" id=\"node1\"><title>-1225948872061902021</title>\n",
       "<polygon fill=\"none\" points=\"106.836,-196.5 17.6645,-196.5 17.6645,-160.5 106.836,-160.5 106.836,-196.5\" stroke=\"black\"/>\n",
       "<text font-family=\"Times,serif\" font-size=\"14.00\" text-anchor=\"middle\" x=\"62.2502\" y=\"-174.3\">load_data-#0</text>\n",
       "</g>\n",
       "<!-- &#45;6753190153254823411 -->\n",
       "<g class=\"node\" id=\"node6\"><title>-6753190153254823411</title>\n",
       "<ellipse cx=\"62.2502\" cy=\"-284.823\" fill=\"none\" rx=\"52.1463\" ry=\"52.1463\" stroke=\"black\"/>\n",
       "<text font-family=\"Times,serif\" font-size=\"14.00\" text-anchor=\"middle\" x=\"62.2502\" y=\"-280.623\">clean_data</text>\n",
       "</g>\n",
       "<!-- &#45;1225948872061902021&#45;&gt;&#45;6753190153254823411 -->\n",
       "<g class=\"edge\" id=\"edge5\"><title>-1225948872061902021-&gt;-6753190153254823411</title>\n",
       "<path d=\"M62.2502,-196.727C62.2502,-203.952 62.2502,-212.832 62.2502,-222.13\" fill=\"none\" stroke=\"black\"/>\n",
       "<polygon fill=\"black\" points=\"58.7503,-222.326 62.2502,-232.326 65.7503,-222.326 58.7503,-222.326\" stroke=\"black\"/>\n",
       "</g>\n",
       "<!-- 7701079839380570432 -->\n",
       "<g class=\"node\" id=\"node2\"><title>7701079839380570432</title>\n",
       "<ellipse cx=\"62.2502\" cy=\"-62.2502\" fill=\"none\" rx=\"62.0014\" ry=\"62.0014\" stroke=\"black\"/>\n",
       "<text font-family=\"Times,serif\" font-size=\"14.00\" text-anchor=\"middle\" x=\"62.2502\" y=\"-58.0502\">load_data(...)</text>\n",
       "</g>\n",
       "<!-- 7701079839380570432&#45;&gt;&#45;1225948872061902021 -->\n",
       "<g class=\"edge\" id=\"edge1\"><title>7701079839380570432-&gt;-1225948872061902021</title>\n",
       "<path d=\"M62.2502,-124.723C62.2502,-133.626 62.2502,-142.387 62.2502,-150.135\" fill=\"none\" stroke=\"black\"/>\n",
       "<polygon fill=\"black\" points=\"58.7503,-150.323 62.2502,-160.323 65.7503,-150.323 58.7503,-150.323\" stroke=\"black\"/>\n",
       "</g>\n",
       "<!-- 5702695090619246884 -->\n",
       "<g class=\"node\" id=\"node3\"><title>5702695090619246884</title>\n",
       "<polygon fill=\"none\" points=\"115.98,-640.022 8.52044,-640.022 8.52044,-604.022 115.98,-604.022 115.98,-640.022\" stroke=\"black\"/>\n",
       "<text font-family=\"Times,serif\" font-size=\"14.00\" text-anchor=\"middle\" x=\"62.2502\" y=\"-617.822\">analyze_data-#1</text>\n",
       "</g>\n",
       "<!-- 4638912821010811519 -->\n",
       "<g class=\"node\" id=\"node4\"><title>4638912821010811519</title>\n",
       "<ellipse cx=\"62.2502\" cy=\"-506.584\" fill=\"none\" rx=\"61.3761\" ry=\"61.3761\" stroke=\"black\"/>\n",
       "<text font-family=\"Times,serif\" font-size=\"14.00\" text-anchor=\"middle\" x=\"62.2502\" y=\"-502.384\">analyze_data</text>\n",
       "</g>\n",
       "<!-- 4638912821010811519&#45;&gt;5702695090619246884 -->\n",
       "<g class=\"edge\" id=\"edge2\"><title>4638912821010811519-&gt;5702695090619246884</title>\n",
       "<path d=\"M62.2502,-568.288C62.2502,-577.168 62.2502,-585.916 62.2502,-593.658\" fill=\"none\" stroke=\"black\"/>\n",
       "<polygon fill=\"black\" points=\"58.7503,-593.84 62.2502,-603.84 65.7503,-593.84 58.7503,-593.84\" stroke=\"black\"/>\n",
       "</g>\n",
       "<!-- &#45;2780731702616401402 -->\n",
       "<g class=\"node\" id=\"node5\"><title>-2780731702616401402</title>\n",
       "<polygon fill=\"none\" points=\"109.266,-409.146 15.2341,-409.146 15.2341,-373.146 109.266,-373.146 109.266,-409.146\" stroke=\"black\"/>\n",
       "<text font-family=\"Times,serif\" font-size=\"14.00\" text-anchor=\"middle\" x=\"62.2502\" y=\"-386.946\">clean_data-#2</text>\n",
       "</g>\n",
       "<!-- &#45;2780731702616401402&#45;&gt;4638912821010811519 -->\n",
       "<g class=\"edge\" id=\"edge3\"><title>-2780731702616401402-&gt;4638912821010811519</title>\n",
       "<path d=\"M62.2502,-409.375C62.2502,-416.597 62.2502,-425.515 62.2502,-434.983\" fill=\"none\" stroke=\"black\"/>\n",
       "<polygon fill=\"black\" points=\"58.7503,-435 62.2502,-445 65.7503,-435 58.7503,-435\" stroke=\"black\"/>\n",
       "</g>\n",
       "<!-- &#45;6753190153254823411&#45;&gt;&#45;2780731702616401402 -->\n",
       "<g class=\"edge\" id=\"edge4\"><title>-6753190153254823411-&gt;-2780731702616401402</title>\n",
       "<path d=\"M62.2502,-337.373C62.2502,-346.026 62.2502,-354.702 62.2502,-362.447\" fill=\"none\" stroke=\"black\"/>\n",
       "<polygon fill=\"black\" points=\"58.7503,-362.677 62.2502,-372.677 65.7503,-362.677 58.7503,-362.677\" stroke=\"black\"/>\n",
       "</g>\n",
       "</g>\n",
       "</svg>"
      ],
      "text/plain": [
       "<IPython.core.display.SVG object>"
      ]
     },
     "execution_count": 7,
     "metadata": {},
     "output_type": "execute_result"
    }
   ],
   "source": [
    "report.visualize(format='svg', size='5')"
   ]
  },
  {
   "cell_type": "markdown",
   "metadata": {},
   "source": [
    "Let's compute the last value"
   ]
  },
  {
   "cell_type": "code",
   "execution_count": 9,
   "metadata": {
    "collapsed": false
   },
   "outputs": [
    {
     "name": "stdout",
     "output_type": "stream",
     "text": [
      "CPU times: user 132 ms, sys: 34.1 ms, total: 166 ms\n",
      "Wall time: 2.05 s\n"
     ]
    },
    {
     "data": {
      "text/plain": [
       "\"analyzed_cleaned_data_{'option': 100}\""
      ]
     },
     "execution_count": 9,
     "metadata": {},
     "output_type": "execute_result"
    }
   ],
   "source": [
    "%%time\n",
    "report.compute()"
   ]
  },
  {
   "cell_type": "markdown",
   "metadata": {},
   "source": [
    "If we do it two times, the computations are again done"
   ]
  },
  {
   "cell_type": "code",
   "execution_count": 10,
   "metadata": {
    "collapsed": false
   },
   "outputs": [
    {
     "name": "stdout",
     "output_type": "stream",
     "text": [
      "CPU times: user 136 ms, sys: 34.8 ms, total: 171 ms\n",
      "Wall time: 2.06 s\n"
     ]
    },
    {
     "data": {
      "text/plain": [
       "\"analyzed_cleaned_data_{'option': 100}\""
      ]
     },
     "execution_count": 10,
     "metadata": {},
     "output_type": "execute_result"
    }
   ],
   "source": [
    "%%time\n",
    "report.compute()"
   ]
  },
  {
   "cell_type": "markdown",
   "metadata": {},
   "source": [
    "Now let's persist the data, the computations are loaded."
   ]
  },
  {
   "cell_type": "code",
   "execution_count": 11,
   "metadata": {
    "collapsed": false
   },
   "outputs": [],
   "source": [
    "report = report.persist()"
   ]
  },
  {
   "cell_type": "markdown",
   "metadata": {},
   "source": [
    "Now we have immediately access to the results"
   ]
  },
  {
   "cell_type": "code",
   "execution_count": 12,
   "metadata": {
    "collapsed": false
   },
   "outputs": [
    {
     "data": {
      "text/plain": [
       "\"analyzed_cleaned_data_{'option': 100}\""
      ]
     },
     "execution_count": 12,
     "metadata": {},
     "output_type": "execute_result"
    }
   ],
   "source": [
    "report.compute()"
   ]
  },
  {
   "cell_type": "markdown",
   "metadata": {},
   "source": [
    "We can see that the \"report\" task  has been detached from others and so, cached data are loaded when the compute method is used."
   ]
  },
  {
   "cell_type": "code",
   "execution_count": 13,
   "metadata": {
    "collapsed": false
   },
   "outputs": [
    {
     "data": {
      "image/svg+xml": [
       "<svg height=\"44pt\" viewBox=\"0.00 0.00 115.73 44.00\" width=\"116pt\" xmlns=\"http://www.w3.org/2000/svg\" xmlns:xlink=\"http://www.w3.org/1999/xlink\">\n",
       "<g class=\"graph\" id=\"graph0\" transform=\"scale(1 1) rotate(0) translate(4 40)\">\n",
       "<title>%3</title>\n",
       "<polygon fill=\"white\" points=\"-4,4 -4,-40 111.729,-40 111.729,4 -4,4\" stroke=\"none\"/>\n",
       "<!-- 5702695090619246884 -->\n",
       "<g class=\"node\" id=\"node1\"><title>5702695090619246884</title>\n",
       "<polygon fill=\"none\" points=\"107.594,-36 0.134961,-36 0.134961,-0 107.594,-0 107.594,-36\" stroke=\"black\"/>\n",
       "<text font-family=\"Times,serif\" font-size=\"14.00\" text-anchor=\"middle\" x=\"53.8647\" y=\"-13.8\">analyze_data-#0</text>\n",
       "</g>\n",
       "</g>\n",
       "</svg>"
      ],
      "text/plain": [
       "<IPython.core.display.SVG object>"
      ]
     },
     "execution_count": 13,
     "metadata": {},
     "output_type": "execute_result"
    }
   ],
   "source": [
    "report.visualize(format='svg')"
   ]
  },
  {
   "cell_type": "markdown",
   "metadata": {},
   "source": [
    "however, other task have not been \"persisted\"."
   ]
  },
  {
   "cell_type": "code",
   "execution_count": 14,
   "metadata": {
    "collapsed": false
   },
   "outputs": [
    {
     "data": {
      "text/plain": [
       "\"cleaned_data_{'option': 100}\""
      ]
     },
     "execution_count": 14,
     "metadata": {},
     "output_type": "execute_result"
    }
   ],
   "source": [
    "cleaned_data.compute()"
   ]
  },
  {
   "cell_type": "code",
   "execution_count": 15,
   "metadata": {
    "collapsed": false
   },
   "outputs": [
    {
     "data": {
      "image/svg+xml": [
       "<svg height=\"44pt\" viewBox=\"0.00 0.00 102.51 44.00\" width=\"103pt\" xmlns=\"http://www.w3.org/2000/svg\" xmlns:xlink=\"http://www.w3.org/1999/xlink\">\n",
       "<g class=\"graph\" id=\"graph0\" transform=\"scale(1 1) rotate(0) translate(4 40)\">\n",
       "<title>%3</title>\n",
       "<polygon fill=\"white\" points=\"-4,4 -4,-40 98.5148,-40 98.5148,4 -4,4\" stroke=\"none\"/>\n",
       "<!-- &#45;4794502489318889754 -->\n",
       "<g class=\"node\" id=\"node1\"><title>-4794502489318889754</title>\n",
       "<polygon fill=\"none\" points=\"94.2734,-36 0.241361,-36 0.241361,-0 94.2734,-0 94.2734,-36\" stroke=\"black\"/>\n",
       "<text font-family=\"Times,serif\" font-size=\"14.00\" text-anchor=\"middle\" x=\"47.2574\" y=\"-13.8\">clean_data-#0</text>\n",
       "</g>\n",
       "</g>\n",
       "</svg>"
      ],
      "text/plain": [
       "<IPython.core.display.SVG object>"
      ]
     },
     "execution_count": 15,
     "metadata": {},
     "output_type": "execute_result"
    }
   ],
   "source": [
    "clean_data.visualize(format='svg', size='2')"
   ]
  },
  {
   "cell_type": "code",
   "execution_count": 16,
   "metadata": {
    "collapsed": false
   },
   "outputs": [],
   "source": [
    "cleaned_data=cleaned_data.persist()"
   ]
  },
  {
   "cell_type": "code",
   "execution_count": 47,
   "metadata": {
    "collapsed": false
   },
   "outputs": [
    {
     "data": {
      "text/plain": [
       "\"cleaned_data_{'option': 100}\""
      ]
     },
     "execution_count": 47,
     "metadata": {},
     "output_type": "execute_result"
    }
   ],
   "source": [
    "cleaned_data.compute()"
   ]
  },
  {
   "cell_type": "markdown",
   "metadata": {},
   "source": [
    "Now let's look what's hapen if we make the first compuation persist only.\n"
   ]
  },
  {
   "cell_type": "code",
   "execution_count": 48,
   "metadata": {
    "collapsed": true
   },
   "outputs": [],
   "source": [
    "data = load_data(option=100)\n",
    "cleaned_data = clean_data(data)\n",
    "report = analyze_data(cleaned_data)"
   ]
  },
  {
   "cell_type": "code",
   "execution_count": 49,
   "metadata": {
    "collapsed": false
   },
   "outputs": [
    {
     "name": "stdout",
     "output_type": "stream",
     "text": [
      "load data ...\n",
      "{'option': 100}\n"
     ]
    }
   ],
   "source": [
    "data = data.persist()"
   ]
  },
  {
   "cell_type": "code",
   "execution_count": 51,
   "metadata": {
    "collapsed": false
   },
   "outputs": [
    {
     "data": {
      "text/plain": [
       "\"data_{'option': 100}\""
      ]
     },
     "execution_count": 51,
     "metadata": {},
     "output_type": "execute_result"
    }
   ],
   "source": [
    "data.compute()"
   ]
  },
  {
   "cell_type": "markdown",
   "metadata": {},
   "source": [
    "this is not take into acount by other variables."
   ]
  },
  {
   "cell_type": "code",
   "execution_count": 54,
   "metadata": {
    "collapsed": false
   },
   "outputs": [
    {
     "name": "stdout",
     "output_type": "stream",
     "text": [
      "load data ...\n",
      "{'option': 100}\n",
      "clean data ...\n",
      "analyze data ...\n"
     ]
    },
    {
     "data": {
      "text/plain": [
       "\"analyzed_cleaned_data_{'option': 100}\""
      ]
     },
     "execution_count": 54,
     "metadata": {},
     "output_type": "execute_result"
    }
   ],
   "source": [
    "report.compute()"
   ]
  },
  {
   "cell_type": "markdown",
   "metadata": {},
   "source": [
    "# With a cluster "
   ]
  },
  {
   "cell_type": "markdown",
   "metadata": {},
   "source": [
    "Let's try the same thing with a cluster"
   ]
  },
  {
   "cell_type": "code",
   "execution_count": 3,
   "metadata": {
    "collapsed": false
   },
   "outputs": [
    {
     "name": "stderr",
     "output_type": "stream",
     "text": [
      "distributed.comm.tcp - WARNING - Could not set timeout on TCP stream: [Errno 42] Protocol not available\n",
      "distributed.comm.tcp - WARNING - Could not set timeout on TCP stream: [Errno 42] Protocol not available\n",
      "distributed.comm.tcp - WARNING - Could not set timeout on TCP stream: [Errno 42] Protocol not available\n",
      "distributed.comm.tcp - WARNING - Could not set timeout on TCP stream: [Errno 42] Protocol not available\n",
      "distributed.comm.tcp - WARNING - Could not set timeout on TCP stream: [Errno 42] Protocol not available\n",
      "distributed.comm.tcp - WARNING - Could not set timeout on TCP stream: [Errno 42] Protocol not available\n",
      "distributed.comm.tcp - WARNING - Could not set timeout on TCP stream: [Errno 42] Protocol not available\n",
      "distributed.comm.tcp - WARNING - Could not set timeout on TCP stream: [Errno 42] Protocol not available\n",
      "distributed.comm.tcp - WARNING - Could not set timeout on TCP stream: [Errno 42] Protocol not available\n",
      "distributed.comm.tcp - WARNING - Could not set timeout on TCP stream: [Errno 42] Protocol not available\n",
      "distributed.comm.tcp - WARNING - Could not set timeout on TCP stream: [Errno 42] Protocol not available\n",
      "distributed.comm.tcp - WARNING - Could not set timeout on TCP stream: [Errno 42] Protocol not available\n"
     ]
    }
   ],
   "source": [
    "from distributed import LocalCluster, Client\n",
    "client = Client()"
   ]
  },
  {
   "cell_type": "code",
   "execution_count": 4,
   "metadata": {
    "collapsed": false
   },
   "outputs": [
    {
     "data": {
      "text/plain": [
       "<Client: scheduler='tcp://127.0.0.1:56119' processes=2 cores=2>"
      ]
     },
     "execution_count": 4,
     "metadata": {},
     "output_type": "execute_result"
    },
    {
     "name": "stderr",
     "output_type": "stream",
     "text": [
      "distributed.comm.tcp - WARNING - Could not set timeout on TCP stream: [Errno 42] Protocol not available\n",
      "distributed.comm.tcp - WARNING - Could not set timeout on TCP stream: [Errno 42] Protocol not available\n",
      "distributed.comm.tcp - WARNING - Could not set timeout on TCP stream: [Errno 42] Protocol not available\n"
     ]
    }
   ],
   "source": [
    "from distributed.client import default_client\n",
    "default_client()"
   ]
  },
  {
   "cell_type": "code",
   "execution_count": 24,
   "metadata": {
    "collapsed": false
   },
   "outputs": [],
   "source": [
    "data = load_data(option=500)\n",
    "cleaned_data = clean_data(data)\n",
    "report = analyze_data(cleaned_data)\n",
    "#data = data.persist()\n",
    "data = client.persist(data)"
   ]
  },
  {
   "cell_type": "code",
   "execution_count": 23,
   "metadata": {
    "collapsed": false
   },
   "outputs": [
    {
     "data": {
      "text/plain": [
       "\"data_{'option': 5000}\""
      ]
     },
     "execution_count": 23,
     "metadata": {},
     "output_type": "execute_result"
    }
   ],
   "source": [
    "data.compute()"
   ]
  },
  {
   "cell_type": "code",
   "execution_count": 22,
   "metadata": {
    "collapsed": false
   },
   "outputs": [
    {
     "data": {
      "text/plain": [
       "\"analyzed_cleaned_data_{'option': 5000}\""
      ]
     },
     "execution_count": 22,
     "metadata": {},
     "output_type": "execute_result"
    }
   ],
   "source": [
    "report.compute()"
   ]
  },
  {
   "cell_type": "markdown",
   "metadata": {},
   "source": [
    "Now it works!"
   ]
  },
  {
   "cell_type": "code",
   "execution_count": 25,
   "metadata": {
    "collapsed": true
   },
   "outputs": [],
   "source": [
    "data = load_data(option=1000)\n",
    "cleaned_data = clean_data(data)\n",
    "report = analyze_data(cleaned_data)\n",
    "data = data.persist()"
   ]
  },
  {
   "cell_type": "code",
   "execution_count": 26,
   "metadata": {
    "collapsed": false
   },
   "outputs": [
    {
     "data": {
      "text/plain": [
       "\"data_{'option': 1000}\""
      ]
     },
     "execution_count": 26,
     "metadata": {},
     "output_type": "execute_result"
    }
   ],
   "source": [
    "#data = client.persist(data)\n",
    "data.compute()"
   ]
  },
  {
   "cell_type": "code",
   "execution_count": 27,
   "metadata": {
    "collapsed": false
   },
   "outputs": [
    {
     "data": {
      "text/plain": [
       "\"analyzed_cleaned_data_{'option': 1000}\""
      ]
     },
     "execution_count": 27,
     "metadata": {},
     "output_type": "execute_result"
    }
   ],
   "source": [
    "report.compute()"
   ]
  },
  {
   "cell_type": "code",
   "execution_count": 28,
   "metadata": {
    "collapsed": false
   },
   "outputs": [
    {
     "name": "stdout",
     "output_type": "stream",
     "text": [
      "CPU times: user 20.6 ms, sys: 4.17 ms, total: 24.8 ms\n",
      "Wall time: 75.1 ms\n"
     ]
    },
    {
     "data": {
      "text/plain": [
       "\"cleaned_data_{'option': 1000}\""
      ]
     },
     "execution_count": 28,
     "metadata": {},
     "output_type": "execute_result"
    }
   ],
   "source": [
    "%%time\n",
    "cleaned_data.compute()"
   ]
  },
  {
   "cell_type": "code",
   "execution_count": 29,
   "metadata": {
    "collapsed": false
   },
   "outputs": [
    {
     "data": {
      "text/plain": [
       "\"cleaned_data_{'option': 1000}\""
      ]
     },
     "execution_count": 29,
     "metadata": {},
     "output_type": "execute_result"
    }
   ],
   "source": [
    "cleaned_data.compute()"
   ]
  }
 ],
 "metadata": {
  "kernelspec": {
   "display_name": "Python 2",
   "language": "python",
   "name": "python2"
  },
  "language_info": {
   "codemirror_mode": {
    "name": "ipython",
    "version": 2
   },
   "file_extension": ".py",
   "mimetype": "text/x-python",
   "name": "python",
   "nbconvert_exporter": "python",
   "pygments_lexer": "ipython2",
   "version": "2.7.11"
  }
 },
 "nbformat": 4,
 "nbformat_minor": 0
}
