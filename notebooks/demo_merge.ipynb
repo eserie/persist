{
 "cells": [
  {
   "cell_type": "code",
   "execution_count": 1,
   "metadata": {
    "collapsed": false
   },
   "outputs": [
    {
     "data": {
      "text/plain": [
       "Delayed('analyze_data-dc1922556acbeed1c7f0518862bec2b7')"
      ]
     },
     "execution_count": 1,
     "metadata": {},
     "output_type": "execute_result"
    }
   ],
   "source": [
    "from persist.persist import PersistentDAG\n",
    "\n",
    "from persist.persist import PersistentDAG\n",
    "from functools import wraps\n",
    "\n",
    "# global variable to simulate the fact to have serialize data somewhere\n",
    "IS_COMPUTED = dict()\n",
    "\n",
    "from time import sleep\n",
    "def load_data(*args, **kwargs):\n",
    "    sleep(2)\n",
    "    print 'load data ...'\n",
    "    if args:\n",
    "        print args\n",
    "        return 'data_{}'.format(args)\n",
    "    if kwargs:\n",
    "        print kwargs\n",
    "        return 'data_{}'.format(kwargs)\n",
    "    return 'data'\n",
    "\n",
    "\n",
    "def clean_data(data, *args, **kwargs):\n",
    "    assert isinstance(data, str)\n",
    "    print 'clean data ...'\n",
    "    if args:\n",
    "        print args\n",
    "        data = data + '_' + '_'.join(map(lambda x: '{}'.format(x), args))\n",
    "    if kwargs:\n",
    "        print kwargs\n",
    "        data = data + '_' + \\\n",
    "            '_'.join(map(lambda kv: '{}_{}'.format(\n",
    "                kv[0], kv[1]), kwargs.items()))\n",
    "    return 'cleaned_{}'.format(data)\n",
    "\n",
    "\n",
    "def analyze_data(cleaned_data, option=1, **other_options):\n",
    "    assert isinstance(cleaned_data, str)\n",
    "    print 'analyze data ...'\n",
    "    return 'analyzed_{}'.format(cleaned_data)\n",
    "\n",
    "\n",
    "\n",
    "class Serializer(object):\n",
    "\n",
    "    def __init__(self):\n",
    "        pass\n",
    "\n",
    "    def load(self, key):\n",
    "        print \"load data for key {} ...\".format(key)\n",
    "        return IS_COMPUTED[key]\n",
    "\n",
    "    def dump(self, key, value):\n",
    "        print \"save data with key {} ...\".format(key)\n",
    "        IS_COMPUTED[key] = value\n",
    "\n",
    "    def is_computed(self, key):\n",
    "        return IS_COMPUTED.get(key) is not None\n",
    "\n",
    "    def delayed_load(self, key):\n",
    "        def load():\n",
    "            return self.load(key)\n",
    "        return load\n",
    "\n",
    "    def dump_result(self, func, key):\n",
    "        @wraps(func)\n",
    "        def wrapped_func(*args, **kwargs):\n",
    "            result = func(*args, **kwargs)\n",
    "            self.dump(key, result)\n",
    "            return result\n",
    "        return wrapped_func\n",
    "\n",
    "\n",
    "g = PersistentDAG()\n",
    "serializer = Serializer()\n",
    "g.add_task(load_data, option=10,\n",
    "           dask_key_name='key_data1', dask_serializer=serializer)\n",
    "g.add_task(load_data, option=20,\n",
    "           dask_key_name='key_data2', dask_serializer=serializer)\n",
    "\n",
    "kwargs = dict(data='key_data1', other='key_data2')\n",
    "g.add_task(clean_data,\n",
    "           dask_key_name='cleaned_data', dask_serializer=serializer,\n",
    "           **kwargs)\n",
    "g.add_task(analyze_data, 'cleaned_data')\n"
   ]
  },
  {
   "cell_type": "code",
   "execution_count": 2,
   "metadata": {
    "collapsed": false
   },
   "outputs": [
    {
     "name": "stderr",
     "output_type": "stream",
     "text": [
      "distributed.comm.tcp - WARNING - Could not set timeout on TCP stream: [Errno 42] Protocol not available\n",
      "distributed.comm.tcp - WARNING - Could not set timeout on TCP stream: [Errno 42] Protocol not available\n",
      "distributed.comm.tcp - WARNING - Could not set timeout on TCP stream: [Errno 42] Protocol not available\n",
      "distributed.comm.tcp - WARNING - Could not set timeout on TCP stream: [Errno 42] Protocol not available\n",
      "distributed.comm.tcp - WARNING - Could not set timeout on TCP stream: [Errno 42] Protocol not available\n",
      "distributed.comm.tcp - WARNING - Could not set timeout on TCP stream: [Errno 42] Protocol not available\n",
      "distributed.comm.tcp - WARNING - Could not set timeout on TCP stream: [Errno 42] Protocol not available\n",
      "distributed.comm.tcp - WARNING - Could not set timeout on TCP stream: [Errno 42] Protocol not available\n",
      "distributed.comm.tcp - WARNING - Could not set timeout on TCP stream: [Errno 42] Protocol not available\n",
      "distributed.comm.tcp - WARNING - Could not set timeout on TCP stream: [Errno 42] Protocol not available\n",
      "distributed.comm.tcp - WARNING - Could not set timeout on TCP stream: [Errno 42] Protocol not available\n",
      "distributed.comm.tcp - WARNING - Could not set timeout on TCP stream: [Errno 42] Protocol not available\n"
     ]
    },
    {
     "data": {
      "text/plain": [
       "<Client: scheduler='tcp://127.0.0.1:49214' processes=2 cores=2>"
      ]
     },
     "execution_count": 2,
     "metadata": {},
     "output_type": "execute_result"
    }
   ],
   "source": [
    "from distributed import Client\n",
    "Client()"
   ]
  },
  {
   "cell_type": "code",
   "execution_count": 13,
   "metadata": {
    "collapsed": false
   },
   "outputs": [],
   "source": [
    "data = g.persist()"
   ]
  },
  {
   "cell_type": "code",
   "execution_count": 14,
   "metadata": {
    "collapsed": false
   },
   "outputs": [
    {
     "data": {
      "text/plain": [
       "<persist.persist.PersistentDAG at 0x10c286be0>"
      ]
     },
     "execution_count": 14,
     "metadata": {},
     "output_type": "execute_result"
    }
   ],
   "source": [
    "data"
   ]
  },
  {
   "cell_type": "code",
   "execution_count": 15,
   "metadata": {
    "collapsed": false
   },
   "outputs": [
    {
     "data": {
      "text/plain": [
       "{'analyze_data-dc1922556acbeed1c7f0518862bec2b7': \"analyzed_cleaned_data_{'option': 10}_other_data_{'option': 20}\"}"
      ]
     },
     "execution_count": 15,
     "metadata": {},
     "output_type": "execute_result"
    }
   ],
   "source": [
    "g.run()"
   ]
  },
  {
   "cell_type": "code",
   "execution_count": 16,
   "metadata": {
    "collapsed": false
   },
   "outputs": [
    {
     "data": {
      "text/plain": [
       "[\"analyzed_cleaned_data_{'option': 10}_other_data_{'option': 20}\"]"
      ]
     },
     "execution_count": 16,
     "metadata": {},
     "output_type": "execute_result"
    }
   ],
   "source": [
    "data.compute()"
   ]
  },
  {
   "cell_type": "code",
   "execution_count": 17,
   "metadata": {
    "collapsed": false
   },
   "outputs": [
    {
     "data": {
      "image/svg+xml": [
       "<svg height=\"675pt\" viewBox=\"0.00 0.00 275.50 675.37\" width=\"276pt\" xmlns=\"http://www.w3.org/2000/svg\" xmlns:xlink=\"http://www.w3.org/1999/xlink\">\n",
       "<g class=\"graph\" id=\"graph0\" transform=\"scale(1 1) rotate(0) translate(4 671.367)\">\n",
       "<title>%3</title>\n",
       "<polygon fill=\"white\" points=\"-4,4 -4,-671.367 271.5,-671.367 271.5,4 -4,4\" stroke=\"none\"/>\n",
       "<!-- 8302839576455506704 -->\n",
       "<g class=\"node\" id=\"node1\"><title>8302839576455506704</title>\n",
       "<polygon fill=\"none\" points=\"228.786,-196.5 155.714,-196.5 155.714,-160.5 228.786,-160.5 228.786,-196.5\" stroke=\"black\"/>\n",
       "<text font-family=\"Times,serif\" font-size=\"14.00\" text-anchor=\"middle\" x=\"192.25\" y=\"-174.3\">key_data1</text>\n",
       "</g>\n",
       "<!-- &#45;6511657930570053112 -->\n",
       "<g class=\"node\" id=\"node6\"><title>-6511657930570053112</title>\n",
       "<ellipse cx=\"133.25\" cy=\"-298.496\" fill=\"none\" rx=\"65.9903\" ry=\"65.9903\" stroke=\"black\"/>\n",
       "<text font-family=\"Times,serif\" font-size=\"14.00\" text-anchor=\"middle\" x=\"133.25\" y=\"-294.296\">clean_data(...)</text>\n",
       "</g>\n",
       "<!-- 8302839576455506704&#45;&gt;&#45;6511657930570053112 -->\n",
       "<g class=\"edge\" id=\"edge5\"><title>8302839576455506704-&gt;-6511657930570053112</title>\n",
       "<path d=\"M183.671,-196.658C179.119,-205.762 173.198,-217.604 167.021,-229.956\" fill=\"none\" stroke=\"black\"/>\n",
       "<polygon fill=\"black\" points=\"163.836,-228.5 162.495,-239.009 170.097,-231.63 163.836,-228.5\" stroke=\"black\"/>\n",
       "</g>\n",
       "<!-- 2602785972972244883 -->\n",
       "<g class=\"node\" id=\"node2\"><title>2602785972972244883</title>\n",
       "<ellipse cx=\"205.25\" cy=\"-62.2502\" fill=\"none\" rx=\"62.0014\" ry=\"62.0014\" stroke=\"black\"/>\n",
       "<text font-family=\"Times,serif\" font-size=\"14.00\" text-anchor=\"middle\" x=\"205.25\" y=\"-58.0502\">load_data(...)</text>\n",
       "</g>\n",
       "<!-- 2602785972972244883&#45;&gt;8302839576455506704 -->\n",
       "<g class=\"edge\" id=\"edge1\"><title>2602785972972244883-&gt;8302839576455506704</title>\n",
       "<path d=\"M198.293,-124.389C197.264,-133.435 196.25,-142.346 195.356,-150.208\" fill=\"none\" stroke=\"black\"/>\n",
       "<polygon fill=\"black\" points=\"191.872,-149.863 194.219,-160.195 198.828,-150.655 191.872,-149.863\" stroke=\"black\"/>\n",
       "</g>\n",
       "<!-- &#45;197770856540928990 -->\n",
       "<g class=\"node\" id=\"node3\"><title>-197770856540928990</title>\n",
       "<polygon fill=\"none\" points=\"186.98,-667.367 79.5204,-667.367 79.5204,-631.367 186.98,-631.367 186.98,-667.367\" stroke=\"black\"/>\n",
       "<text font-family=\"Times,serif\" font-size=\"14.00\" text-anchor=\"middle\" x=\"133.25\" y=\"-645.167\">analyze_data-#0</text>\n",
       "</g>\n",
       "<!-- 3939317514912389457 -->\n",
       "<g class=\"node\" id=\"node4\"><title>3939317514912389457</title>\n",
       "<ellipse cx=\"133.25\" cy=\"-533.929\" fill=\"none\" rx=\"61.3761\" ry=\"61.3761\" stroke=\"black\"/>\n",
       "<text font-family=\"Times,serif\" font-size=\"14.00\" text-anchor=\"middle\" x=\"133.25\" y=\"-529.729\">analyze_data</text>\n",
       "</g>\n",
       "<!-- 3939317514912389457&#45;&gt;&#45;197770856540928990 -->\n",
       "<g class=\"edge\" id=\"edge2\"><title>3939317514912389457-&gt;-197770856540928990</title>\n",
       "<path d=\"M133.25,-595.633C133.25,-604.512 133.25,-613.261 133.25,-621.002\" fill=\"none\" stroke=\"black\"/>\n",
       "<polygon fill=\"black\" points=\"129.75,-621.184 133.25,-631.184 136.75,-621.184 129.75,-621.184\" stroke=\"black\"/>\n",
       "</g>\n",
       "<!-- 1301405446878381891 -->\n",
       "<g class=\"node\" id=\"node5\"><title>1301405446878381891</title>\n",
       "<polygon fill=\"none\" points=\"177.819,-436.491 88.6814,-436.491 88.6814,-400.491 177.819,-400.491 177.819,-436.491\" stroke=\"black\"/>\n",
       "<text font-family=\"Times,serif\" font-size=\"14.00\" text-anchor=\"middle\" x=\"133.25\" y=\"-414.291\">cleaned_data</text>\n",
       "</g>\n",
       "<!-- 1301405446878381891&#45;&gt;3939317514912389457 -->\n",
       "<g class=\"edge\" id=\"edge3\"><title>1301405446878381891-&gt;3939317514912389457</title>\n",
       "<path d=\"M133.25,-436.719C133.25,-443.942 133.25,-452.86 133.25,-462.327\" fill=\"none\" stroke=\"black\"/>\n",
       "<polygon fill=\"black\" points=\"129.75,-462.345 133.25,-472.345 136.75,-462.345 129.75,-462.345\" stroke=\"black\"/>\n",
       "</g>\n",
       "<!-- &#45;6511657930570053112&#45;&gt;1301405446878381891 -->\n",
       "<g class=\"edge\" id=\"edge4\"><title>-6511657930570053112-&gt;1301405446878381891</title>\n",
       "<path d=\"M133.25,-364.705C133.25,-373.689 133.25,-382.479 133.25,-390.229\" fill=\"none\" stroke=\"black\"/>\n",
       "<polygon fill=\"black\" points=\"129.75,-390.404 133.25,-400.404 136.75,-390.404 129.75,-390.404\" stroke=\"black\"/>\n",
       "</g>\n",
       "<!-- 8302839576455506707 -->\n",
       "<g class=\"node\" id=\"node7\"><title>8302839576455506707</title>\n",
       "<polygon fill=\"none\" points=\"111.786,-196.5 38.7143,-196.5 38.7143,-160.5 111.786,-160.5 111.786,-196.5\" stroke=\"black\"/>\n",
       "<text font-family=\"Times,serif\" font-size=\"14.00\" text-anchor=\"middle\" x=\"75.2502\" y=\"-174.3\">key_data2</text>\n",
       "</g>\n",
       "<!-- 8302839576455506707&#45;&gt;&#45;6511657930570053112 -->\n",
       "<g class=\"edge\" id=\"edge6\"><title>8302839576455506707-&gt;-6511657930570053112</title>\n",
       "<path d=\"M83.6839,-196.658C88.1588,-205.762 93.9797,-217.604 100.052,-229.956\" fill=\"none\" stroke=\"black\"/>\n",
       "<polygon fill=\"black\" points=\"96.949,-231.579 104.501,-239.009 103.231,-228.491 96.949,-231.579\" stroke=\"black\"/>\n",
       "</g>\n",
       "<!-- 2602786946457749208 -->\n",
       "<g class=\"node\" id=\"node8\"><title>2602786946457749208</title>\n",
       "<ellipse cx=\"62.2502\" cy=\"-62.2502\" fill=\"none\" rx=\"62.0014\" ry=\"62.0014\" stroke=\"black\"/>\n",
       "<text font-family=\"Times,serif\" font-size=\"14.00\" text-anchor=\"middle\" x=\"62.2502\" y=\"-58.0502\">load_data(...)</text>\n",
       "</g>\n",
       "<!-- 2602786946457749208&#45;&gt;8302839576455506707 -->\n",
       "<g class=\"edge\" id=\"edge7\"><title>2602786946457749208-&gt;8302839576455506707</title>\n",
       "<path d=\"M69.2069,-124.389C70.2362,-133.435 71.2501,-142.346 72.1447,-150.208\" fill=\"none\" stroke=\"black\"/>\n",
       "<polygon fill=\"black\" points=\"68.6729,-150.655 73.2811,-160.195 75.628,-149.863 68.6729,-150.655\" stroke=\"black\"/>\n",
       "</g>\n",
       "</g>\n",
       "</svg>"
      ],
      "text/plain": [
       "<IPython.core.display.SVG object>"
      ]
     },
     "execution_count": 17,
     "metadata": {},
     "output_type": "execute_result"
    }
   ],
   "source": [
    "g.visualize(format='svg')"
   ]
  },
  {
   "cell_type": "code",
   "execution_count": 18,
   "metadata": {
    "collapsed": false
   },
   "outputs": [
    {
     "data": {
      "text/plain": [
       "\"analyzed_cleaned_data_{'option': 10}_other_data_{'option': 20}\""
      ]
     },
     "execution_count": 18,
     "metadata": {},
     "output_type": "execute_result"
    }
   ],
   "source": [
    "data = g.submit(analyze_data, 'cleaned_data')\n",
    "data.compute()"
   ]
  },
  {
   "cell_type": "code",
   "execution_count": 19,
   "metadata": {
    "collapsed": false
   },
   "outputs": [],
   "source": [
    "graph = g.to_digraph()\n",
    "import networkx as nx\n"
   ]
  },
  {
   "cell_type": "code",
   "execution_count": null,
   "metadata": {
    "collapsed": false
   },
   "outputs": [],
   "source": [
    "client = Client()\n"
   ]
  },
  {
   "cell_type": "code",
   "execution_count": null,
   "metadata": {
    "collapsed": false
   },
   "outputs": [],
   "source": [
    "g.persist()"
   ]
  }
 ],
 "metadata": {
  "kernelspec": {
   "display_name": "Python 2",
   "language": "python",
   "name": "python2"
  },
  "language_info": {
   "codemirror_mode": {
    "name": "ipython",
    "version": 2
   },
   "file_extension": ".py",
   "mimetype": "text/x-python",
   "name": "python",
   "nbconvert_exporter": "python",
   "pygments_lexer": "ipython2",
   "version": "2.7.11"
  }
 },
 "nbformat": 4,
 "nbformat_minor": 0
}
