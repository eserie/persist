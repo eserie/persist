{
 "cells": [
  {
   "cell_type": "code",
   "execution_count": 1,
   "metadata": {
    "collapsed": false
   },
   "outputs": [],
   "source": [
    "%load_ext autoreload\n",
    "%autoreload 2"
   ]
  },
  {
   "cell_type": "code",
   "execution_count": 2,
   "metadata": {
    "collapsed": false
   },
   "outputs": [],
   "source": [
    "from persist.persist import PersistentDAG\n",
    "\n",
    "from persist.persist import PersistentDAG\n",
    "from functools import wraps\n",
    "\n",
    "# global variable to simulate the fact to have serialize data somewhere\n",
    "global IS_COMPUTED\n",
    "IS_COMPUTED = dict()\n",
    "\n",
    "from time import sleep\n",
    "def load_data(*args, **kwargs):\n",
    "    sleep(2)\n",
    "    print 'load data ...'\n",
    "    if args:\n",
    "        print args\n",
    "        return 'data_{}'.format(args)\n",
    "    if kwargs:\n",
    "        print kwargs\n",
    "        return 'data_{}'.format(kwargs)\n",
    "    return 'data'\n",
    "\n",
    "\n",
    "def clean_data(data, *args, **kwargs):\n",
    "    assert isinstance(data, str)\n",
    "    print 'clean data ...'\n",
    "    if args:\n",
    "        print args\n",
    "        data = data + '_' + '_'.join(map(lambda x: '{}'.format(x), args))\n",
    "    if kwargs:\n",
    "        print kwargs\n",
    "        data = data + '_' + \\\n",
    "            '_'.join(map(lambda kv: '{}_{}'.format(\n",
    "                kv[0], kv[1]), kwargs.items()))\n",
    "    return 'cleaned_{}'.format(data)\n",
    "\n",
    "\n",
    "def analyze_data(cleaned_data, option=1, **other_options):\n",
    "    assert isinstance(cleaned_data, str)\n",
    "    print 'analyze data ...'\n",
    "    return 'analyzed_{}'.format(cleaned_data)\n",
    "\n",
    "\n",
    "\n",
    "class Serializer(object):\n",
    "\n",
    "    def __init__(self):\n",
    "        pass\n",
    "\n",
    "    def load(self, key):\n",
    "        print \"load data for key {} ...\".format(key)\n",
    "        return IS_COMPUTED[key]\n",
    "\n",
    "    def dump(self, key, value):\n",
    "        print \"save data with key {} ...\".format(key)\n",
    "        IS_COMPUTED[key] = value\n",
    "\n",
    "    def is_computed(self, key):\n",
    "        global IS_COMPUTED\n",
    "        return IS_COMPUTED.get(key) is not None\n",
    "\n"
   ]
  },
  {
   "cell_type": "code",
   "execution_count": 3,
   "metadata": {
    "collapsed": false
   },
   "outputs": [],
   "source": [
    "def setup_graph():\n",
    "    g = PersistentDAG()\n",
    "    serializer = Serializer()\n",
    "    g.add_task(load_data, option=10,\n",
    "               dask_key_name='key_data1', \n",
    "               dask_serializer=serializer \n",
    "              )\n",
    "    g.add_task(load_data, option=20,\n",
    "               dask_key_name='key_data2', \n",
    "               dask_serializer=serializer\n",
    "              )\n",
    "\n",
    "    kwargs = dict(data='key_data1', other='key_data2')\n",
    "    g.add_task(clean_data,\n",
    "               dask_key_name='cleaned_data', \n",
    "               #dask_serializer=serializer,\n",
    "               **kwargs)\n",
    "    g.add_task(analyze_data, 'cleaned_data',\n",
    "               # dask_key_name='analyzed_data', \n",
    "              dask_serializer=serializer)\n",
    "    return g"
   ]
  },
  {
   "cell_type": "code",
   "execution_count": 4,
   "metadata": {
    "collapsed": false
   },
   "outputs": [],
   "source": [
    "g = setup_graph()"
   ]
  },
  {
   "cell_type": "code",
   "execution_count": 5,
   "metadata": {
    "collapsed": false
   },
   "outputs": [
    {
     "data": {
      "image/svg+xml": [
       "<svg height=\"614pt\" viewBox=\"0.00 0.00 195.55 613.94\" width=\"196pt\" xmlns=\"http://www.w3.org/2000/svg\" xmlns:xlink=\"http://www.w3.org/1999/xlink\">\n",
       "<g class=\"graph\" id=\"graph0\" transform=\"scale(1 1) rotate(0) translate(4 609.939)\">\n",
       "<title>%3</title>\n",
       "<polygon fill=\"white\" points=\"-4,4 -4,-609.939 191.553,-609.939 191.553,4 -4,4\" stroke=\"none\"/>\n",
       "<!-- 3243188021646568514 -->\n",
       "<g class=\"node\" id=\"node1\"><title>3243188021646568514</title>\n",
       "<polygon fill=\"none\" points=\"147.002,-605.939 39.5517,-605.939 39.5517,-569.939 147.002,-569.939 147.002,-605.939\" stroke=\"black\"/>\n",
       "<text font-family=\"Times,serif\" font-size=\"14.00\" text-anchor=\"middle\" x=\"93.2767\" y=\"-583.739\">analyze_data-#0</text>\n",
       "</g>\n",
       "<!-- 6649563791053254257 -->\n",
       "<g class=\"node\" id=\"node2\"><title>6649563791053254257</title>\n",
       "<ellipse cx=\"93.2767\" cy=\"-477.68\" fill=\"none\" rx=\"56.0183\" ry=\"56.0183\" stroke=\"black\"/>\n",
       "<text font-family=\"Times,serif\" font-size=\"14.00\" text-anchor=\"middle\" x=\"93.2767\" y=\"-473.48\">analyze_data</text>\n",
       "</g>\n",
       "<!-- 6649563791053254257&#45;&gt;3243188021646568514 -->\n",
       "<g class=\"edge\" id=\"edge1\"><title>6649563791053254257-&gt;3243188021646568514</title>\n",
       "<path d=\"M93.2767,-534.078C93.2767,-542.847 93.2767,-551.572 93.2767,-559.331\" fill=\"none\" stroke=\"black\"/>\n",
       "<polygon fill=\"black\" points=\"89.7768,-559.561 93.2767,-569.561 96.7768,-559.561 89.7768,-559.561\" stroke=\"black\"/>\n",
       "</g>\n",
       "<!-- 1301405446878381891 -->\n",
       "<g class=\"node\" id=\"node3\"><title>1301405446878381891</title>\n",
       "<polygon fill=\"none\" points=\"137.839,-385.422 48.7141,-385.422 48.7141,-349.422 137.839,-349.422 137.839,-385.422\" stroke=\"black\"/>\n",
       "<text font-family=\"Times,serif\" font-size=\"14.00\" text-anchor=\"middle\" x=\"93.2767\" y=\"-363.222\">cleaned_data</text>\n",
       "</g>\n",
       "<!-- 1301405446878381891&#45;&gt;6649563791053254257 -->\n",
       "<g class=\"edge\" id=\"edge2\"><title>1301405446878381891-&gt;6649563791053254257</title>\n",
       "<path d=\"M93.2767,-385.815C93.2767,-393.014 93.2767,-401.854 93.2767,-411.164\" fill=\"none\" stroke=\"black\"/>\n",
       "<polygon fill=\"black\" points=\"89.7768,-411.397 93.2767,-421.397 96.7768,-411.397 89.7768,-411.397\" stroke=\"black\"/>\n",
       "</g>\n",
       "<!-- &#45;6511657930570053112 -->\n",
       "<g class=\"node\" id=\"node4\"><title>-6511657930570053112</title>\n",
       "<ellipse cx=\"93.2767\" cy=\"-252.988\" fill=\"none\" rx=\"60.3686\" ry=\"60.3686\" stroke=\"black\"/>\n",
       "<text font-family=\"Times,serif\" font-size=\"14.00\" text-anchor=\"middle\" x=\"93.2767\" y=\"-248.788\">clean_data(...)</text>\n",
       "</g>\n",
       "<!-- &#45;6511657930570053112&#45;&gt;1301405446878381891 -->\n",
       "<g class=\"edge\" id=\"edge3\"><title>-6511657930570053112-&gt;1301405446878381891</title>\n",
       "<path d=\"M93.2767,-313.497C93.2767,-322.376 93.2767,-331.145 93.2767,-338.914\" fill=\"none\" stroke=\"black\"/>\n",
       "<polygon fill=\"black\" points=\"89.7768,-339.139 93.2767,-349.139 96.7768,-339.139 89.7768,-339.139\" stroke=\"black\"/>\n",
       "</g>\n",
       "<!-- 8302839576455506704 -->\n",
       "<g class=\"node\" id=\"node5\"><title>8302839576455506704</title>\n",
       "<polygon fill=\"none\" points=\"81.8094,-156.553 8.74392,-156.553 8.74392,-120.553 81.8094,-120.553 81.8094,-156.553\" stroke=\"black\"/>\n",
       "<text font-family=\"Times,serif\" font-size=\"14.00\" text-anchor=\"middle\" x=\"45.2767\" y=\"-134.353\">key_data1</text>\n",
       "</g>\n",
       "<!-- 8302839576455506704&#45;&gt;&#45;6511657930570053112 -->\n",
       "<g class=\"edge\" id=\"edge4\"><title>8302839576455506704-&gt;-6511657930570053112</title>\n",
       "<path d=\"M52.5668,-156.63C56.2504,-165.258 60.9765,-176.328 65.896,-187.852\" fill=\"none\" stroke=\"black\"/>\n",
       "<polygon fill=\"black\" points=\"62.7212,-189.33 69.8666,-197.152 69.1591,-186.581 62.7212,-189.33\" stroke=\"black\"/>\n",
       "</g>\n",
       "<!-- 8302839576455506707 -->\n",
       "<g class=\"node\" id=\"node6\"><title>8302839576455506707</title>\n",
       "<polygon fill=\"none\" points=\"178.809,-156.553 105.744,-156.553 105.744,-120.553 178.809,-120.553 178.809,-156.553\" stroke=\"black\"/>\n",
       "<text font-family=\"Times,serif\" font-size=\"14.00\" text-anchor=\"middle\" x=\"142.277\" y=\"-134.353\">key_data2</text>\n",
       "</g>\n",
       "<!-- 8302839576455506707&#45;&gt;&#45;6511657930570053112 -->\n",
       "<g class=\"edge\" id=\"edge5\"><title>8302839576455506707-&gt;-6511657930570053112</title>\n",
       "<path d=\"M134.835,-156.63C131.074,-165.258 126.25,-176.328 121.228,-187.852\" fill=\"none\" stroke=\"black\"/>\n",
       "<polygon fill=\"black\" points=\"117.961,-186.587 117.174,-197.152 124.378,-189.383 117.961,-186.587\" stroke=\"black\"/>\n",
       "</g>\n",
       "<!-- 2602785972972244883 -->\n",
       "<g class=\"node\" id=\"node7\"><title>2602785972972244883</title>\n",
       "<ellipse cx=\"42.2767\" cy=\"-42.2767\" fill=\"none\" rx=\"42.0545\" ry=\"42.0545\" stroke=\"black\"/>\n",
       "<text font-family=\"Times,serif\" font-size=\"14.00\" text-anchor=\"middle\" x=\"42.2767\" y=\"-38.0767\">apply(...)</text>\n",
       "</g>\n",
       "<!-- 2602785972972244883&#45;&gt;8302839576455506704 -->\n",
       "<g class=\"edge\" id=\"edge6\"><title>2602785972972244883-&gt;8302839576455506704</title>\n",
       "<path d=\"M43.5925,-84.6278C43.8653,-93.1992 44.1463,-102.03 44.3987,-109.963\" fill=\"none\" stroke=\"black\"/>\n",
       "<polygon fill=\"black\" points=\"40.9054,-110.232 44.7218,-120.116 47.9018,-110.009 40.9054,-110.232\" stroke=\"black\"/>\n",
       "</g>\n",
       "<!-- 2602786946457749208 -->\n",
       "<g class=\"node\" id=\"node8\"><title>2602786946457749208</title>\n",
       "<ellipse cx=\"145.277\" cy=\"-42.2767\" fill=\"none\" rx=\"42.0545\" ry=\"42.0545\" stroke=\"black\"/>\n",
       "<text font-family=\"Times,serif\" font-size=\"14.00\" text-anchor=\"middle\" x=\"145.277\" y=\"-38.0767\">apply(...)</text>\n",
       "</g>\n",
       "<!-- 2602786946457749208&#45;&gt;8302839576455506707 -->\n",
       "<g class=\"edge\" id=\"edge7\"><title>2602786946457749208-&gt;8302839576455506707</title>\n",
       "<path d=\"M143.961,-84.6278C143.688,-93.1992 143.407,-102.03 143.155,-109.963\" fill=\"none\" stroke=\"black\"/>\n",
       "<polygon fill=\"black\" points=\"139.651,-110.009 142.832,-120.116 146.648,-110.232 139.651,-110.009\" stroke=\"black\"/>\n",
       "</g>\n",
       "</g>\n",
       "</svg>"
      ],
      "text/plain": [
       "<IPython.core.display.SVG object>"
      ]
     },
     "execution_count": 5,
     "metadata": {},
     "output_type": "execute_result"
    }
   ],
   "source": [
    "from dask.dot import dot_graph\n",
    "dot_graph(g._dask, format=\"svg\")"
   ]
  },
  {
   "cell_type": "code",
   "execution_count": 6,
   "metadata": {
    "collapsed": false
   },
   "outputs": [
    {
     "data": {
      "image/svg+xml": [
       "<svg height=\"614pt\" viewBox=\"0.00 0.00 195.55 613.94\" width=\"196pt\" xmlns=\"http://www.w3.org/2000/svg\" xmlns:xlink=\"http://www.w3.org/1999/xlink\">\n",
       "<g class=\"graph\" id=\"graph0\" transform=\"scale(1 1) rotate(0) translate(4 609.939)\">\n",
       "<title>%3</title>\n",
       "<polygon fill=\"white\" points=\"-4,4 -4,-609.939 191.553,-609.939 191.553,4 -4,4\" stroke=\"none\"/>\n",
       "<!-- 8302839576455506704 -->\n",
       "<g class=\"node\" id=\"node1\"><title>8302839576455506704</title>\n",
       "<polygon fill=\"red\" points=\"178.809,-156.553 105.744,-156.553 105.744,-120.553 178.809,-120.553 178.809,-156.553\" stroke=\"red\"/>\n",
       "<text font-family=\"Times,serif\" font-size=\"14.00\" text-anchor=\"middle\" x=\"142.277\" y=\"-134.353\">key_data1</text>\n",
       "</g>\n",
       "<!-- &#45;6511657930570053112 -->\n",
       "<g class=\"node\" id=\"node6\"><title>-6511657930570053112</title>\n",
       "<ellipse cx=\"93.2767\" cy=\"-252.988\" fill=\"none\" rx=\"60.3686\" ry=\"60.3686\" stroke=\"black\"/>\n",
       "<text font-family=\"Times,serif\" font-size=\"14.00\" text-anchor=\"middle\" x=\"93.2767\" y=\"-248.788\">clean_data(...)</text>\n",
       "</g>\n",
       "<!-- 8302839576455506704&#45;&gt;&#45;6511657930570053112 -->\n",
       "<g class=\"edge\" id=\"edge5\"><title>8302839576455506704-&gt;-6511657930570053112</title>\n",
       "<path d=\"M134.835,-156.63C131.074,-165.258 126.25,-176.328 121.228,-187.852\" fill=\"none\" stroke=\"black\"/>\n",
       "<polygon fill=\"black\" points=\"117.961,-186.587 117.174,-197.152 124.378,-189.383 117.961,-186.587\" stroke=\"black\"/>\n",
       "</g>\n",
       "<!-- 2602785972972244883 -->\n",
       "<g class=\"node\" id=\"node2\"><title>2602785972972244883</title>\n",
       "<ellipse cx=\"145.277\" cy=\"-42.2767\" fill=\"none\" rx=\"42.0545\" ry=\"42.0545\" stroke=\"black\"/>\n",
       "<text font-family=\"Times,serif\" font-size=\"14.00\" text-anchor=\"middle\" x=\"145.277\" y=\"-38.0767\">apply(...)</text>\n",
       "</g>\n",
       "<!-- 2602785972972244883&#45;&gt;8302839576455506704 -->\n",
       "<g class=\"edge\" id=\"edge1\"><title>2602785972972244883-&gt;8302839576455506704</title>\n",
       "<path d=\"M143.961,-84.6278C143.688,-93.1992 143.407,-102.03 143.155,-109.963\" fill=\"none\" stroke=\"black\"/>\n",
       "<polygon fill=\"black\" points=\"139.651,-110.009 142.832,-120.116 146.648,-110.232 139.651,-110.009\" stroke=\"black\"/>\n",
       "</g>\n",
       "<!-- 3243188021646568514 -->\n",
       "<g class=\"node\" id=\"node3\"><title>3243188021646568514</title>\n",
       "<polygon fill=\"red\" points=\"147.002,-605.939 39.5517,-605.939 39.5517,-569.939 147.002,-569.939 147.002,-605.939\" stroke=\"red\"/>\n",
       "<text font-family=\"Times,serif\" font-size=\"14.00\" text-anchor=\"middle\" x=\"93.2767\" y=\"-583.739\">analyze_data-#0</text>\n",
       "</g>\n",
       "<!-- 6649563791053254257 -->\n",
       "<g class=\"node\" id=\"node4\"><title>6649563791053254257</title>\n",
       "<ellipse cx=\"93.2767\" cy=\"-477.68\" fill=\"none\" rx=\"56.0183\" ry=\"56.0183\" stroke=\"black\"/>\n",
       "<text font-family=\"Times,serif\" font-size=\"14.00\" text-anchor=\"middle\" x=\"93.2767\" y=\"-473.48\">analyze_data</text>\n",
       "</g>\n",
       "<!-- 6649563791053254257&#45;&gt;3243188021646568514 -->\n",
       "<g class=\"edge\" id=\"edge2\"><title>6649563791053254257-&gt;3243188021646568514</title>\n",
       "<path d=\"M93.2767,-534.078C93.2767,-542.847 93.2767,-551.572 93.2767,-559.331\" fill=\"none\" stroke=\"black\"/>\n",
       "<polygon fill=\"black\" points=\"89.7768,-559.561 93.2767,-569.561 96.7768,-559.561 89.7768,-559.561\" stroke=\"black\"/>\n",
       "</g>\n",
       "<!-- 1301405446878381891 -->\n",
       "<g class=\"node\" id=\"node5\"><title>1301405446878381891</title>\n",
       "<polygon fill=\"none\" points=\"137.839,-385.422 48.7141,-385.422 48.7141,-349.422 137.839,-349.422 137.839,-385.422\" stroke=\"black\"/>\n",
       "<text font-family=\"Times,serif\" font-size=\"14.00\" text-anchor=\"middle\" x=\"93.2767\" y=\"-363.222\">cleaned_data</text>\n",
       "</g>\n",
       "<!-- 1301405446878381891&#45;&gt;6649563791053254257 -->\n",
       "<g class=\"edge\" id=\"edge3\"><title>1301405446878381891-&gt;6649563791053254257</title>\n",
       "<path d=\"M93.2767,-385.815C93.2767,-393.014 93.2767,-401.854 93.2767,-411.164\" fill=\"none\" stroke=\"black\"/>\n",
       "<polygon fill=\"black\" points=\"89.7768,-411.397 93.2767,-421.397 96.7768,-411.397 89.7768,-411.397\" stroke=\"black\"/>\n",
       "</g>\n",
       "<!-- &#45;6511657930570053112&#45;&gt;1301405446878381891 -->\n",
       "<g class=\"edge\" id=\"edge4\"><title>-6511657930570053112-&gt;1301405446878381891</title>\n",
       "<path d=\"M93.2767,-313.497C93.2767,-322.376 93.2767,-331.145 93.2767,-338.914\" fill=\"none\" stroke=\"black\"/>\n",
       "<polygon fill=\"black\" points=\"89.7768,-339.139 93.2767,-349.139 96.7768,-339.139 89.7768,-339.139\" stroke=\"black\"/>\n",
       "</g>\n",
       "<!-- 8302839576455506707 -->\n",
       "<g class=\"node\" id=\"node7\"><title>8302839576455506707</title>\n",
       "<polygon fill=\"red\" points=\"81.8094,-156.553 8.74392,-156.553 8.74392,-120.553 81.8094,-120.553 81.8094,-156.553\" stroke=\"red\"/>\n",
       "<text font-family=\"Times,serif\" font-size=\"14.00\" text-anchor=\"middle\" x=\"45.2767\" y=\"-134.353\">key_data2</text>\n",
       "</g>\n",
       "<!-- 8302839576455506707&#45;&gt;&#45;6511657930570053112 -->\n",
       "<g class=\"edge\" id=\"edge6\"><title>8302839576455506707-&gt;-6511657930570053112</title>\n",
       "<path d=\"M52.5668,-156.63C56.2504,-165.258 60.9765,-176.328 65.896,-187.852\" fill=\"none\" stroke=\"black\"/>\n",
       "<polygon fill=\"black\" points=\"62.7212,-189.33 69.8666,-197.152 69.1591,-186.581 62.7212,-189.33\" stroke=\"black\"/>\n",
       "</g>\n",
       "<!-- 2602786946457749208 -->\n",
       "<g class=\"node\" id=\"node8\"><title>2602786946457749208</title>\n",
       "<ellipse cx=\"42.2767\" cy=\"-42.2767\" fill=\"none\" rx=\"42.0545\" ry=\"42.0545\" stroke=\"black\"/>\n",
       "<text font-family=\"Times,serif\" font-size=\"14.00\" text-anchor=\"middle\" x=\"42.2767\" y=\"-38.0767\">apply(...)</text>\n",
       "</g>\n",
       "<!-- 2602786946457749208&#45;&gt;8302839576455506707 -->\n",
       "<g class=\"edge\" id=\"edge7\"><title>2602786946457749208-&gt;8302839576455506707</title>\n",
       "<path d=\"M43.5925,-84.6278C43.8653,-93.1992 44.1463,-102.03 44.3987,-109.963\" fill=\"none\" stroke=\"black\"/>\n",
       "<polygon fill=\"black\" points=\"40.9054,-110.232 44.7218,-120.116 47.9018,-110.009 40.9054,-110.232\" stroke=\"black\"/>\n",
       "</g>\n",
       "</g>\n",
       "</svg>"
      ],
      "text/plain": [
       "<IPython.core.display.SVG object>"
      ]
     },
     "execution_count": 6,
     "metadata": {},
     "output_type": "execute_result"
    }
   ],
   "source": [
    "g.visualize(format='svg', raw_dask=True)"
   ]
  },
  {
   "cell_type": "code",
   "execution_count": 7,
   "metadata": {
    "collapsed": false
   },
   "outputs": [
    {
     "data": {
      "image/svg+xml": [
       "<svg height=\"614pt\" viewBox=\"0.00 0.00 195.55 613.94\" width=\"196pt\" xmlns=\"http://www.w3.org/2000/svg\" xmlns:xlink=\"http://www.w3.org/1999/xlink\">\n",
       "<g class=\"graph\" id=\"graph0\" transform=\"scale(1 1) rotate(0) translate(4 609.939)\">\n",
       "<title>%3</title>\n",
       "<polygon fill=\"white\" points=\"-4,4 -4,-609.939 191.553,-609.939 191.553,4 -4,4\" stroke=\"none\"/>\n",
       "<!-- 8302839576455506704 -->\n",
       "<g class=\"node\" id=\"node1\"><title>8302839576455506704</title>\n",
       "<polygon fill=\"red\" points=\"178.809,-156.553 105.744,-156.553 105.744,-120.553 178.809,-120.553 178.809,-156.553\" stroke=\"red\"/>\n",
       "<text font-family=\"Times,serif\" font-size=\"14.00\" text-anchor=\"middle\" x=\"142.277\" y=\"-134.353\">key_data1</text>\n",
       "</g>\n",
       "<!-- &#45;6511657930570053112 -->\n",
       "<g class=\"node\" id=\"node6\"><title>-6511657930570053112</title>\n",
       "<ellipse cx=\"93.2767\" cy=\"-252.988\" fill=\"none\" rx=\"60.3686\" ry=\"60.3686\" stroke=\"black\"/>\n",
       "<text font-family=\"Times,serif\" font-size=\"14.00\" text-anchor=\"middle\" x=\"93.2767\" y=\"-248.788\">clean_data(...)</text>\n",
       "</g>\n",
       "<!-- 8302839576455506704&#45;&gt;&#45;6511657930570053112 -->\n",
       "<g class=\"edge\" id=\"edge5\"><title>8302839576455506704-&gt;-6511657930570053112</title>\n",
       "<path d=\"M134.835,-156.63C131.074,-165.258 126.25,-176.328 121.228,-187.852\" fill=\"none\" stroke=\"black\"/>\n",
       "<polygon fill=\"black\" points=\"117.961,-186.587 117.174,-197.152 124.378,-189.383 117.961,-186.587\" stroke=\"black\"/>\n",
       "</g>\n",
       "<!-- 2602785972972244883 -->\n",
       "<g class=\"node\" id=\"node2\"><title>2602785972972244883</title>\n",
       "<ellipse cx=\"145.277\" cy=\"-42.2767\" fill=\"none\" rx=\"42.0545\" ry=\"42.0545\" stroke=\"black\"/>\n",
       "<text font-family=\"Times,serif\" font-size=\"14.00\" text-anchor=\"middle\" x=\"145.277\" y=\"-38.0767\">apply(...)</text>\n",
       "</g>\n",
       "<!-- 2602785972972244883&#45;&gt;8302839576455506704 -->\n",
       "<g class=\"edge\" id=\"edge1\"><title>2602785972972244883-&gt;8302839576455506704</title>\n",
       "<path d=\"M143.961,-84.6278C143.688,-93.1992 143.407,-102.03 143.155,-109.963\" fill=\"none\" stroke=\"black\"/>\n",
       "<polygon fill=\"black\" points=\"139.651,-110.009 142.832,-120.116 146.648,-110.232 139.651,-110.009\" stroke=\"black\"/>\n",
       "</g>\n",
       "<!-- 3243188021646568514 -->\n",
       "<g class=\"node\" id=\"node3\"><title>3243188021646568514</title>\n",
       "<polygon fill=\"red\" points=\"147.002,-605.939 39.5517,-605.939 39.5517,-569.939 147.002,-569.939 147.002,-605.939\" stroke=\"red\"/>\n",
       "<text font-family=\"Times,serif\" font-size=\"14.00\" text-anchor=\"middle\" x=\"93.2767\" y=\"-583.739\">analyze_data-#0</text>\n",
       "</g>\n",
       "<!-- 6649563791053254257 -->\n",
       "<g class=\"node\" id=\"node4\"><title>6649563791053254257</title>\n",
       "<ellipse cx=\"93.2767\" cy=\"-477.68\" fill=\"none\" rx=\"56.0183\" ry=\"56.0183\" stroke=\"black\"/>\n",
       "<text font-family=\"Times,serif\" font-size=\"14.00\" text-anchor=\"middle\" x=\"93.2767\" y=\"-473.48\">analyze_data</text>\n",
       "</g>\n",
       "<!-- 6649563791053254257&#45;&gt;3243188021646568514 -->\n",
       "<g class=\"edge\" id=\"edge2\"><title>6649563791053254257-&gt;3243188021646568514</title>\n",
       "<path d=\"M93.2767,-534.078C93.2767,-542.847 93.2767,-551.572 93.2767,-559.331\" fill=\"none\" stroke=\"black\"/>\n",
       "<polygon fill=\"black\" points=\"89.7768,-559.561 93.2767,-569.561 96.7768,-559.561 89.7768,-559.561\" stroke=\"black\"/>\n",
       "</g>\n",
       "<!-- 1301405446878381891 -->\n",
       "<g class=\"node\" id=\"node5\"><title>1301405446878381891</title>\n",
       "<polygon fill=\"none\" points=\"137.839,-385.422 48.7141,-385.422 48.7141,-349.422 137.839,-349.422 137.839,-385.422\" stroke=\"black\"/>\n",
       "<text font-family=\"Times,serif\" font-size=\"14.00\" text-anchor=\"middle\" x=\"93.2767\" y=\"-363.222\">cleaned_data</text>\n",
       "</g>\n",
       "<!-- 1301405446878381891&#45;&gt;6649563791053254257 -->\n",
       "<g class=\"edge\" id=\"edge3\"><title>1301405446878381891-&gt;6649563791053254257</title>\n",
       "<path d=\"M93.2767,-385.815C93.2767,-393.014 93.2767,-401.854 93.2767,-411.164\" fill=\"none\" stroke=\"black\"/>\n",
       "<polygon fill=\"black\" points=\"89.7768,-411.397 93.2767,-421.397 96.7768,-411.397 89.7768,-411.397\" stroke=\"black\"/>\n",
       "</g>\n",
       "<!-- &#45;6511657930570053112&#45;&gt;1301405446878381891 -->\n",
       "<g class=\"edge\" id=\"edge4\"><title>-6511657930570053112-&gt;1301405446878381891</title>\n",
       "<path d=\"M93.2767,-313.497C93.2767,-322.376 93.2767,-331.145 93.2767,-338.914\" fill=\"none\" stroke=\"black\"/>\n",
       "<polygon fill=\"black\" points=\"89.7768,-339.139 93.2767,-349.139 96.7768,-339.139 89.7768,-339.139\" stroke=\"black\"/>\n",
       "</g>\n",
       "<!-- 8302839576455506707 -->\n",
       "<g class=\"node\" id=\"node7\"><title>8302839576455506707</title>\n",
       "<polygon fill=\"red\" points=\"81.8094,-156.553 8.74392,-156.553 8.74392,-120.553 81.8094,-120.553 81.8094,-156.553\" stroke=\"red\"/>\n",
       "<text font-family=\"Times,serif\" font-size=\"14.00\" text-anchor=\"middle\" x=\"45.2767\" y=\"-134.353\">key_data2</text>\n",
       "</g>\n",
       "<!-- 8302839576455506707&#45;&gt;&#45;6511657930570053112 -->\n",
       "<g class=\"edge\" id=\"edge6\"><title>8302839576455506707-&gt;-6511657930570053112</title>\n",
       "<path d=\"M52.5668,-156.63C56.2504,-165.258 60.9765,-176.328 65.896,-187.852\" fill=\"none\" stroke=\"black\"/>\n",
       "<polygon fill=\"black\" points=\"62.7212,-189.33 69.8666,-197.152 69.1591,-186.581 62.7212,-189.33\" stroke=\"black\"/>\n",
       "</g>\n",
       "<!-- 2602786946457749208 -->\n",
       "<g class=\"node\" id=\"node8\"><title>2602786946457749208</title>\n",
       "<ellipse cx=\"42.2767\" cy=\"-42.2767\" fill=\"none\" rx=\"42.0545\" ry=\"42.0545\" stroke=\"black\"/>\n",
       "<text font-family=\"Times,serif\" font-size=\"14.00\" text-anchor=\"middle\" x=\"42.2767\" y=\"-38.0767\">apply(...)</text>\n",
       "</g>\n",
       "<!-- 2602786946457749208&#45;&gt;8302839576455506707 -->\n",
       "<g class=\"edge\" id=\"edge7\"><title>2602786946457749208-&gt;8302839576455506707</title>\n",
       "<path d=\"M43.5925,-84.6278C43.8653,-93.1992 44.1463,-102.03 44.3987,-109.963\" fill=\"none\" stroke=\"black\"/>\n",
       "<polygon fill=\"black\" points=\"40.9054,-110.232 44.7218,-120.116 47.9018,-110.009 40.9054,-110.232\" stroke=\"black\"/>\n",
       "</g>\n",
       "</g>\n",
       "</svg>"
      ],
      "text/plain": [
       "<IPython.core.display.SVG object>"
      ]
     },
     "execution_count": 7,
     "metadata": {},
     "output_type": "execute_result"
    }
   ],
   "source": [
    "g.visualize(format='svg')"
   ]
  },
  {
   "cell_type": "code",
   "execution_count": 8,
   "metadata": {
    "collapsed": false
   },
   "outputs": [
    {
     "data": {
      "text/plain": [
       "{'analyze_data-6a3e11692e5564d1d8e7ab6bfad8efac': (<function __main__.analyze_data>,\n",
       "  'cleaned_data'),\n",
       " 'cleaned_data': (<function apply>,\n",
       "  <function __main__.clean_data>,\n",
       "  [],\n",
       "  (dict, [['other', 'key_data2'], ['data', 'key_data1']])),\n",
       " 'key_data1': (<function apply>,\n",
       "  <function __main__.load_data>,\n",
       "  [],\n",
       "  (dict, [['option', 10]])),\n",
       " 'key_data2': (<function apply>,\n",
       "  <function __main__.load_data>,\n",
       "  [],\n",
       "  (dict, [['option', 20]]))}"
      ]
     },
     "execution_count": 8,
     "metadata": {},
     "output_type": "execute_result"
    }
   ],
   "source": [
    "g.dask"
   ]
  },
  {
   "cell_type": "code",
   "execution_count": 9,
   "metadata": {
    "collapsed": false
   },
   "outputs": [
    {
     "data": {
      "text/plain": [
       "{}"
      ]
     },
     "execution_count": 9,
     "metadata": {},
     "output_type": "execute_result"
    }
   ],
   "source": [
    "IS_COMPUTED"
   ]
  },
  {
   "cell_type": "code",
   "execution_count": 10,
   "metadata": {
    "collapsed": false
   },
   "outputs": [
    {
     "name": "stdout",
     "output_type": "stream",
     "text": [
      "load data ...\n",
      "{'option': 10}\n",
      "save data with key key_data1 ...\n",
      "load data ...\n",
      "{'option': 20}\n",
      "save data with key key_data2 ...\n",
      "clean data ...\n",
      "{'other': \"data_{'option': 20}\"}\n",
      "analyze data ...\n",
      "save data with key analyze_data-6a3e11692e5564d1d8e7ab6bfad8efac ...\n"
     ]
    },
    {
     "data": {
      "text/plain": [
       "\"analyzed_cleaned_data_{'option': 10}_other_data_{'option': 20}\""
      ]
     },
     "execution_count": 10,
     "metadata": {},
     "output_type": "execute_result"
    }
   ],
   "source": [
    "g.compute()"
   ]
  },
  {
   "cell_type": "code",
   "execution_count": 11,
   "metadata": {
    "collapsed": false
   },
   "outputs": [
    {
     "name": "stdout",
     "output_type": "stream",
     "text": [
      "Populating the interactive namespace from numpy and matplotlib\n"
     ]
    }
   ],
   "source": [
    "%pylab inline"
   ]
  },
  {
   "cell_type": "code",
   "execution_count": 12,
   "metadata": {
    "collapsed": false
   },
   "outputs": [
    {
     "data": {
      "image/svg+xml": [
       "<svg height=\"614pt\" viewBox=\"0.00 0.00 195.55 613.94\" width=\"196pt\" xmlns=\"http://www.w3.org/2000/svg\" xmlns:xlink=\"http://www.w3.org/1999/xlink\">\n",
       "<g class=\"graph\" id=\"graph0\" transform=\"scale(1 1) rotate(0) translate(4 609.939)\">\n",
       "<title>%3</title>\n",
       "<polygon fill=\"white\" points=\"-4,4 -4,-609.939 191.553,-609.939 191.553,4 -4,4\" stroke=\"none\"/>\n",
       "<!-- 8302839576455506704 -->\n",
       "<g class=\"node\" id=\"node1\"><title>8302839576455506704</title>\n",
       "<polygon fill=\"green\" points=\"178.809,-156.553 105.744,-156.553 105.744,-120.553 178.809,-120.553 178.809,-156.553\" stroke=\"green\"/>\n",
       "<text font-family=\"Times,serif\" font-size=\"14.00\" text-anchor=\"middle\" x=\"142.277\" y=\"-134.353\">key_data1</text>\n",
       "</g>\n",
       "<!-- &#45;6511657930570053112 -->\n",
       "<g class=\"node\" id=\"node6\"><title>-6511657930570053112</title>\n",
       "<ellipse cx=\"93.2767\" cy=\"-252.988\" fill=\"none\" rx=\"60.3686\" ry=\"60.3686\" stroke=\"black\"/>\n",
       "<text font-family=\"Times,serif\" font-size=\"14.00\" text-anchor=\"middle\" x=\"93.2767\" y=\"-248.788\">clean_data(...)</text>\n",
       "</g>\n",
       "<!-- 8302839576455506704&#45;&gt;&#45;6511657930570053112 -->\n",
       "<g class=\"edge\" id=\"edge5\"><title>8302839576455506704-&gt;-6511657930570053112</title>\n",
       "<path d=\"M134.835,-156.63C131.074,-165.258 126.25,-176.328 121.228,-187.852\" fill=\"none\" stroke=\"black\"/>\n",
       "<polygon fill=\"black\" points=\"117.961,-186.587 117.174,-197.152 124.378,-189.383 117.961,-186.587\" stroke=\"black\"/>\n",
       "</g>\n",
       "<!-- 2602785972972244883 -->\n",
       "<g class=\"node\" id=\"node2\"><title>2602785972972244883</title>\n",
       "<ellipse cx=\"145.277\" cy=\"-42.2767\" fill=\"none\" rx=\"42.0545\" ry=\"42.0545\" stroke=\"black\"/>\n",
       "<text font-family=\"Times,serif\" font-size=\"14.00\" text-anchor=\"middle\" x=\"145.277\" y=\"-38.0767\">apply(...)</text>\n",
       "</g>\n",
       "<!-- 2602785972972244883&#45;&gt;8302839576455506704 -->\n",
       "<g class=\"edge\" id=\"edge1\"><title>2602785972972244883-&gt;8302839576455506704</title>\n",
       "<path d=\"M143.961,-84.6278C143.688,-93.1992 143.407,-102.03 143.155,-109.963\" fill=\"none\" stroke=\"black\"/>\n",
       "<polygon fill=\"black\" points=\"139.651,-110.009 142.832,-120.116 146.648,-110.232 139.651,-110.009\" stroke=\"black\"/>\n",
       "</g>\n",
       "<!-- 3243188021646568514 -->\n",
       "<g class=\"node\" id=\"node3\"><title>3243188021646568514</title>\n",
       "<polygon fill=\"green\" points=\"147.002,-605.939 39.5517,-605.939 39.5517,-569.939 147.002,-569.939 147.002,-605.939\" stroke=\"green\"/>\n",
       "<text font-family=\"Times,serif\" font-size=\"14.00\" text-anchor=\"middle\" x=\"93.2767\" y=\"-583.739\">analyze_data-#0</text>\n",
       "</g>\n",
       "<!-- 6649563791053254257 -->\n",
       "<g class=\"node\" id=\"node4\"><title>6649563791053254257</title>\n",
       "<ellipse cx=\"93.2767\" cy=\"-477.68\" fill=\"none\" rx=\"56.0183\" ry=\"56.0183\" stroke=\"black\"/>\n",
       "<text font-family=\"Times,serif\" font-size=\"14.00\" text-anchor=\"middle\" x=\"93.2767\" y=\"-473.48\">analyze_data</text>\n",
       "</g>\n",
       "<!-- 6649563791053254257&#45;&gt;3243188021646568514 -->\n",
       "<g class=\"edge\" id=\"edge2\"><title>6649563791053254257-&gt;3243188021646568514</title>\n",
       "<path d=\"M93.2767,-534.078C93.2767,-542.847 93.2767,-551.572 93.2767,-559.331\" fill=\"none\" stroke=\"black\"/>\n",
       "<polygon fill=\"black\" points=\"89.7768,-559.561 93.2767,-569.561 96.7768,-559.561 89.7768,-559.561\" stroke=\"black\"/>\n",
       "</g>\n",
       "<!-- 1301405446878381891 -->\n",
       "<g class=\"node\" id=\"node5\"><title>1301405446878381891</title>\n",
       "<polygon fill=\"none\" points=\"137.839,-385.422 48.7141,-385.422 48.7141,-349.422 137.839,-349.422 137.839,-385.422\" stroke=\"black\"/>\n",
       "<text font-family=\"Times,serif\" font-size=\"14.00\" text-anchor=\"middle\" x=\"93.2767\" y=\"-363.222\">cleaned_data</text>\n",
       "</g>\n",
       "<!-- 1301405446878381891&#45;&gt;6649563791053254257 -->\n",
       "<g class=\"edge\" id=\"edge3\"><title>1301405446878381891-&gt;6649563791053254257</title>\n",
       "<path d=\"M93.2767,-385.815C93.2767,-393.014 93.2767,-401.854 93.2767,-411.164\" fill=\"none\" stroke=\"black\"/>\n",
       "<polygon fill=\"black\" points=\"89.7768,-411.397 93.2767,-421.397 96.7768,-411.397 89.7768,-411.397\" stroke=\"black\"/>\n",
       "</g>\n",
       "<!-- &#45;6511657930570053112&#45;&gt;1301405446878381891 -->\n",
       "<g class=\"edge\" id=\"edge4\"><title>-6511657930570053112-&gt;1301405446878381891</title>\n",
       "<path d=\"M93.2767,-313.497C93.2767,-322.376 93.2767,-331.145 93.2767,-338.914\" fill=\"none\" stroke=\"black\"/>\n",
       "<polygon fill=\"black\" points=\"89.7768,-339.139 93.2767,-349.139 96.7768,-339.139 89.7768,-339.139\" stroke=\"black\"/>\n",
       "</g>\n",
       "<!-- 8302839576455506707 -->\n",
       "<g class=\"node\" id=\"node7\"><title>8302839576455506707</title>\n",
       "<polygon fill=\"green\" points=\"81.8094,-156.553 8.74392,-156.553 8.74392,-120.553 81.8094,-120.553 81.8094,-156.553\" stroke=\"green\"/>\n",
       "<text font-family=\"Times,serif\" font-size=\"14.00\" text-anchor=\"middle\" x=\"45.2767\" y=\"-134.353\">key_data2</text>\n",
       "</g>\n",
       "<!-- 8302839576455506707&#45;&gt;&#45;6511657930570053112 -->\n",
       "<g class=\"edge\" id=\"edge6\"><title>8302839576455506707-&gt;-6511657930570053112</title>\n",
       "<path d=\"M52.5668,-156.63C56.2504,-165.258 60.9765,-176.328 65.896,-187.852\" fill=\"none\" stroke=\"black\"/>\n",
       "<polygon fill=\"black\" points=\"62.7212,-189.33 69.8666,-197.152 69.1591,-186.581 62.7212,-189.33\" stroke=\"black\"/>\n",
       "</g>\n",
       "<!-- 2602786946457749208 -->\n",
       "<g class=\"node\" id=\"node8\"><title>2602786946457749208</title>\n",
       "<ellipse cx=\"42.2767\" cy=\"-42.2767\" fill=\"none\" rx=\"42.0545\" ry=\"42.0545\" stroke=\"black\"/>\n",
       "<text font-family=\"Times,serif\" font-size=\"14.00\" text-anchor=\"middle\" x=\"42.2767\" y=\"-38.0767\">apply(...)</text>\n",
       "</g>\n",
       "<!-- 2602786946457749208&#45;&gt;8302839576455506707 -->\n",
       "<g class=\"edge\" id=\"edge7\"><title>2602786946457749208-&gt;8302839576455506707</title>\n",
       "<path d=\"M43.5925,-84.6278C43.8653,-93.1992 44.1463,-102.03 44.3987,-109.963\" fill=\"none\" stroke=\"black\"/>\n",
       "<polygon fill=\"black\" points=\"40.9054,-110.232 44.7218,-120.116 47.9018,-110.009 40.9054,-110.232\" stroke=\"black\"/>\n",
       "</g>\n",
       "</g>\n",
       "</svg>"
      ],
      "text/plain": [
       "<IPython.core.display.SVG object>"
      ]
     },
     "execution_count": 12,
     "metadata": {},
     "output_type": "execute_result"
    }
   ],
   "source": [
    "g.visualize(format='svg')"
   ]
  },
  {
   "cell_type": "code",
   "execution_count": 13,
   "metadata": {
    "collapsed": false
   },
   "outputs": [
    {
     "data": {
      "text/plain": [
       "{'analyze_data-6a3e11692e5564d1d8e7ab6bfad8efac': \"analyzed_cleaned_data_{'option': 10}_other_data_{'option': 20}\",\n",
       " 'cleaned_data': (<function apply>,\n",
       "  <function __main__.clean_data>,\n",
       "  [],\n",
       "  (dict, [['other', 'key_data2'], ['data', 'key_data1']])),\n",
       " 'key_data1': (<function __main__.load>,),\n",
       " 'key_data2': (<function __main__.load>,)}"
      ]
     },
     "execution_count": 13,
     "metadata": {},
     "output_type": "execute_result"
    }
   ],
   "source": [
    "g.dask"
   ]
  },
  {
   "cell_type": "code",
   "execution_count": 14,
   "metadata": {
    "collapsed": false
   },
   "outputs": [
    {
     "data": {
      "text/plain": [
       "{'analyze_data-6a3e11692e5564d1d8e7ab6bfad8efac': \"analyzed_cleaned_data_{'option': 10}_other_data_{'option': 20}\",\n",
       " 'key_data1': \"data_{'option': 10}\",\n",
       " 'key_data2': \"data_{'option': 20}\"}"
      ]
     },
     "execution_count": 14,
     "metadata": {},
     "output_type": "execute_result"
    }
   ],
   "source": [
    "IS_COMPUTED"
   ]
  },
  {
   "cell_type": "code",
   "execution_count": 15,
   "metadata": {
    "collapsed": false
   },
   "outputs": [
    {
     "name": "stdout",
     "output_type": "stream",
     "text": [
      "load data for key key_data1 ...\n",
      "load data for key key_data2 ...\n",
      "clean data ...\n",
      "{'other': \"data_{'option': 20}\"}\n"
     ]
    },
    {
     "data": {
      "text/plain": [
       "(\"analyzed_cleaned_data_{'option': 10}_other_data_{'option': 20}\",\n",
       " \"cleaned_data_{'option': 10}_other_data_{'option': 20}\")"
      ]
     },
     "execution_count": 15,
     "metadata": {},
     "output_type": "execute_result"
    }
   ],
   "source": [
    "g.compute()"
   ]
  },
  {
   "cell_type": "markdown",
   "metadata": {},
   "source": [
    "If we instantiate another graph, it automatically detect that some data has already been computed."
   ]
  },
  {
   "cell_type": "code",
   "execution_count": 16,
   "metadata": {
    "collapsed": false
   },
   "outputs": [],
   "source": [
    "g = setup_graph()"
   ]
  },
  {
   "cell_type": "code",
   "execution_count": 17,
   "metadata": {
    "collapsed": false
   },
   "outputs": [
    {
     "data": {
      "image/svg+xml": [
       "<svg height=\"614pt\" viewBox=\"0.00 0.00 195.55 613.94\" width=\"196pt\" xmlns=\"http://www.w3.org/2000/svg\" xmlns:xlink=\"http://www.w3.org/1999/xlink\">\n",
       "<g class=\"graph\" id=\"graph0\" transform=\"scale(1 1) rotate(0) translate(4 609.939)\">\n",
       "<title>%3</title>\n",
       "<polygon fill=\"white\" points=\"-4,4 -4,-609.939 191.553,-609.939 191.553,4 -4,4\" stroke=\"none\"/>\n",
       "<!-- 8302839576455506704 -->\n",
       "<g class=\"node\" id=\"node1\"><title>8302839576455506704</title>\n",
       "<polygon fill=\"green\" points=\"178.809,-156.553 105.744,-156.553 105.744,-120.553 178.809,-120.553 178.809,-156.553\" stroke=\"green\"/>\n",
       "<text font-family=\"Times,serif\" font-size=\"14.00\" text-anchor=\"middle\" x=\"142.277\" y=\"-134.353\">key_data1</text>\n",
       "</g>\n",
       "<!-- &#45;6511657930570053112 -->\n",
       "<g class=\"node\" id=\"node6\"><title>-6511657930570053112</title>\n",
       "<ellipse cx=\"93.2767\" cy=\"-252.988\" fill=\"none\" rx=\"60.3686\" ry=\"60.3686\" stroke=\"black\"/>\n",
       "<text font-family=\"Times,serif\" font-size=\"14.00\" text-anchor=\"middle\" x=\"93.2767\" y=\"-248.788\">clean_data(...)</text>\n",
       "</g>\n",
       "<!-- 8302839576455506704&#45;&gt;&#45;6511657930570053112 -->\n",
       "<g class=\"edge\" id=\"edge5\"><title>8302839576455506704-&gt;-6511657930570053112</title>\n",
       "<path d=\"M134.835,-156.63C131.074,-165.258 126.25,-176.328 121.228,-187.852\" fill=\"none\" stroke=\"black\"/>\n",
       "<polygon fill=\"black\" points=\"117.961,-186.587 117.174,-197.152 124.378,-189.383 117.961,-186.587\" stroke=\"black\"/>\n",
       "</g>\n",
       "<!-- 2602785972972244883 -->\n",
       "<g class=\"node\" id=\"node2\"><title>2602785972972244883</title>\n",
       "<ellipse cx=\"145.277\" cy=\"-42.2767\" fill=\"none\" rx=\"42.0545\" ry=\"42.0545\" stroke=\"black\"/>\n",
       "<text font-family=\"Times,serif\" font-size=\"14.00\" text-anchor=\"middle\" x=\"145.277\" y=\"-38.0767\">apply(...)</text>\n",
       "</g>\n",
       "<!-- 2602785972972244883&#45;&gt;8302839576455506704 -->\n",
       "<g class=\"edge\" id=\"edge1\"><title>2602785972972244883-&gt;8302839576455506704</title>\n",
       "<path d=\"M143.961,-84.6278C143.688,-93.1992 143.407,-102.03 143.155,-109.963\" fill=\"none\" stroke=\"black\"/>\n",
       "<polygon fill=\"black\" points=\"139.651,-110.009 142.832,-120.116 146.648,-110.232 139.651,-110.009\" stroke=\"black\"/>\n",
       "</g>\n",
       "<!-- 3243188021646568514 -->\n",
       "<g class=\"node\" id=\"node3\"><title>3243188021646568514</title>\n",
       "<polygon fill=\"green\" points=\"147.002,-605.939 39.5517,-605.939 39.5517,-569.939 147.002,-569.939 147.002,-605.939\" stroke=\"green\"/>\n",
       "<text font-family=\"Times,serif\" font-size=\"14.00\" text-anchor=\"middle\" x=\"93.2767\" y=\"-583.739\">analyze_data-#0</text>\n",
       "</g>\n",
       "<!-- 6649563791053254257 -->\n",
       "<g class=\"node\" id=\"node4\"><title>6649563791053254257</title>\n",
       "<ellipse cx=\"93.2767\" cy=\"-477.68\" fill=\"none\" rx=\"56.0183\" ry=\"56.0183\" stroke=\"black\"/>\n",
       "<text font-family=\"Times,serif\" font-size=\"14.00\" text-anchor=\"middle\" x=\"93.2767\" y=\"-473.48\">analyze_data</text>\n",
       "</g>\n",
       "<!-- 6649563791053254257&#45;&gt;3243188021646568514 -->\n",
       "<g class=\"edge\" id=\"edge2\"><title>6649563791053254257-&gt;3243188021646568514</title>\n",
       "<path d=\"M93.2767,-534.078C93.2767,-542.847 93.2767,-551.572 93.2767,-559.331\" fill=\"none\" stroke=\"black\"/>\n",
       "<polygon fill=\"black\" points=\"89.7768,-559.561 93.2767,-569.561 96.7768,-559.561 89.7768,-559.561\" stroke=\"black\"/>\n",
       "</g>\n",
       "<!-- 1301405446878381891 -->\n",
       "<g class=\"node\" id=\"node5\"><title>1301405446878381891</title>\n",
       "<polygon fill=\"none\" points=\"137.839,-385.422 48.7141,-385.422 48.7141,-349.422 137.839,-349.422 137.839,-385.422\" stroke=\"black\"/>\n",
       "<text font-family=\"Times,serif\" font-size=\"14.00\" text-anchor=\"middle\" x=\"93.2767\" y=\"-363.222\">cleaned_data</text>\n",
       "</g>\n",
       "<!-- 1301405446878381891&#45;&gt;6649563791053254257 -->\n",
       "<g class=\"edge\" id=\"edge3\"><title>1301405446878381891-&gt;6649563791053254257</title>\n",
       "<path d=\"M93.2767,-385.815C93.2767,-393.014 93.2767,-401.854 93.2767,-411.164\" fill=\"none\" stroke=\"black\"/>\n",
       "<polygon fill=\"black\" points=\"89.7768,-411.397 93.2767,-421.397 96.7768,-411.397 89.7768,-411.397\" stroke=\"black\"/>\n",
       "</g>\n",
       "<!-- &#45;6511657930570053112&#45;&gt;1301405446878381891 -->\n",
       "<g class=\"edge\" id=\"edge4\"><title>-6511657930570053112-&gt;1301405446878381891</title>\n",
       "<path d=\"M93.2767,-313.497C93.2767,-322.376 93.2767,-331.145 93.2767,-338.914\" fill=\"none\" stroke=\"black\"/>\n",
       "<polygon fill=\"black\" points=\"89.7768,-339.139 93.2767,-349.139 96.7768,-339.139 89.7768,-339.139\" stroke=\"black\"/>\n",
       "</g>\n",
       "<!-- 8302839576455506707 -->\n",
       "<g class=\"node\" id=\"node7\"><title>8302839576455506707</title>\n",
       "<polygon fill=\"green\" points=\"81.8094,-156.553 8.74392,-156.553 8.74392,-120.553 81.8094,-120.553 81.8094,-156.553\" stroke=\"green\"/>\n",
       "<text font-family=\"Times,serif\" font-size=\"14.00\" text-anchor=\"middle\" x=\"45.2767\" y=\"-134.353\">key_data2</text>\n",
       "</g>\n",
       "<!-- 8302839576455506707&#45;&gt;&#45;6511657930570053112 -->\n",
       "<g class=\"edge\" id=\"edge6\"><title>8302839576455506707-&gt;-6511657930570053112</title>\n",
       "<path d=\"M52.5668,-156.63C56.2504,-165.258 60.9765,-176.328 65.896,-187.852\" fill=\"none\" stroke=\"black\"/>\n",
       "<polygon fill=\"black\" points=\"62.7212,-189.33 69.8666,-197.152 69.1591,-186.581 62.7212,-189.33\" stroke=\"black\"/>\n",
       "</g>\n",
       "<!-- 2602786946457749208 -->\n",
       "<g class=\"node\" id=\"node8\"><title>2602786946457749208</title>\n",
       "<ellipse cx=\"42.2767\" cy=\"-42.2767\" fill=\"none\" rx=\"42.0545\" ry=\"42.0545\" stroke=\"black\"/>\n",
       "<text font-family=\"Times,serif\" font-size=\"14.00\" text-anchor=\"middle\" x=\"42.2767\" y=\"-38.0767\">apply(...)</text>\n",
       "</g>\n",
       "<!-- 2602786946457749208&#45;&gt;8302839576455506707 -->\n",
       "<g class=\"edge\" id=\"edge7\"><title>2602786946457749208-&gt;8302839576455506707</title>\n",
       "<path d=\"M43.5925,-84.6278C43.8653,-93.1992 44.1463,-102.03 44.3987,-109.963\" fill=\"none\" stroke=\"black\"/>\n",
       "<polygon fill=\"black\" points=\"40.9054,-110.232 44.7218,-120.116 47.9018,-110.009 40.9054,-110.232\" stroke=\"black\"/>\n",
       "</g>\n",
       "</g>\n",
       "</svg>"
      ],
      "text/plain": [
       "<IPython.core.display.SVG object>"
      ]
     },
     "execution_count": 17,
     "metadata": {},
     "output_type": "execute_result"
    }
   ],
   "source": [
    "g.visualize(format='svg')"
   ]
  },
  {
   "cell_type": "markdown",
   "metadata": {},
   "source": [
    "We can visualize the graph with methods replaced by load methods on disk."
   ]
  },
  {
   "cell_type": "code",
   "execution_count": 18,
   "metadata": {
    "collapsed": false
   },
   "outputs": [
    {
     "data": {
      "image/svg+xml": [
       "<svg height=\"360pt\" viewBox=\"0.00 0.00 299.63 359.53\" width=\"300pt\" xmlns=\"http://www.w3.org/2000/svg\" xmlns:xlink=\"http://www.w3.org/1999/xlink\">\n",
       "<g class=\"graph\" id=\"graph0\" transform=\"scale(1 1) rotate(0) translate(4 355.533)\">\n",
       "<title>%3</title>\n",
       "<polygon fill=\"white\" points=\"-4,4 -4,-355.533 295.628,-355.533 295.628,4 -4,4\" stroke=\"none\"/>\n",
       "<!-- 8302839576455506704 -->\n",
       "<g class=\"node\" id=\"node1\"><title>8302839576455506704</title>\n",
       "<polygon fill=\"green\" points=\"165.298,-122.665 92.2329,-122.665 92.2329,-86.6649 165.298,-86.6649 165.298,-122.665\" stroke=\"green\"/>\n",
       "<text font-family=\"Times,serif\" font-size=\"14.00\" text-anchor=\"middle\" x=\"128.766\" y=\"-100.465\">key_data1</text>\n",
       "</g>\n",
       "<!-- &#45;6511657930570053112 -->\n",
       "<g class=\"node\" id=\"node6\"><title>-6511657930570053112</title>\n",
       "<ellipse cx=\"82.7656\" cy=\"-219.099\" fill=\"none\" rx=\"60.3686\" ry=\"60.3686\" stroke=\"black\"/>\n",
       "<text font-family=\"Times,serif\" font-size=\"14.00\" text-anchor=\"middle\" x=\"82.7656\" y=\"-214.899\">clean_data(...)</text>\n",
       "</g>\n",
       "<!-- 8302839576455506704&#45;&gt;&#45;6511657930570053112 -->\n",
       "<g class=\"edge\" id=\"edge4\"><title>8302839576455506704-&gt;-6511657930570053112</title>\n",
       "<path d=\"M121.779,-122.741C118.323,-131.188 113.91,-141.975 109.303,-153.237\" fill=\"none\" stroke=\"black\"/>\n",
       "<polygon fill=\"black\" points=\"105.951,-152.187 105.403,-162.767 112.43,-154.837 105.951,-152.187\" stroke=\"black\"/>\n",
       "</g>\n",
       "<!-- 2602785972972244883 -->\n",
       "<g class=\"node\" id=\"node2\"><title>2602785972972244883</title>\n",
       "<ellipse cx=\"128.766\" cy=\"-25.3324\" fill=\"none\" rx=\"25.166\" ry=\"25.166\" stroke=\"black\"/>\n",
       "<text font-family=\"Times,serif\" font-size=\"14.00\" text-anchor=\"middle\" x=\"128.766\" y=\"-21.1324\">load</text>\n",
       "</g>\n",
       "<!-- 2602785972972244883&#45;&gt;8302839576455506704 -->\n",
       "<g class=\"edge\" id=\"edge1\"><title>2602785972972244883-&gt;8302839576455506704</title>\n",
       "<path d=\"M128.766,-50.8009C128.766,-58.8005 128.766,-67.7415 128.766,-75.962\" fill=\"none\" stroke=\"black\"/>\n",
       "<polygon fill=\"black\" points=\"125.266,-76.2135 128.766,-86.2135 132.266,-76.2136 125.266,-76.2135\" stroke=\"black\"/>\n",
       "</g>\n",
       "<!-- 3243188021646568514 -->\n",
       "<g class=\"node\" id=\"node3\"><title>3243188021646568514</title>\n",
       "<polygon fill=\"green\" points=\"291.491,-122.665 184.041,-122.665 184.041,-86.6649 291.491,-86.6649 291.491,-122.665\" stroke=\"green\"/>\n",
       "<text font-family=\"Times,serif\" font-size=\"14.00\" text-anchor=\"middle\" x=\"237.766\" y=\"-100.465\">analyze_data-#0</text>\n",
       "</g>\n",
       "<!-- 6649563791053254257 -->\n",
       "<g class=\"node\" id=\"node4\"><title>6649563791053254257</title>\n",
       "<ellipse cx=\"237.766\" cy=\"-25.3324\" fill=\"none\" rx=\"25.166\" ry=\"25.166\" stroke=\"black\"/>\n",
       "<text font-family=\"Times,serif\" font-size=\"14.00\" text-anchor=\"middle\" x=\"237.766\" y=\"-21.1324\">load</text>\n",
       "</g>\n",
       "<!-- 6649563791053254257&#45;&gt;3243188021646568514 -->\n",
       "<g class=\"edge\" id=\"edge2\"><title>6649563791053254257-&gt;3243188021646568514</title>\n",
       "<path d=\"M237.766,-50.8009C237.766,-58.8005 237.766,-67.7415 237.766,-75.962\" fill=\"none\" stroke=\"black\"/>\n",
       "<polygon fill=\"black\" points=\"234.266,-76.2135 237.766,-86.2135 241.266,-76.2136 234.266,-76.2135\" stroke=\"black\"/>\n",
       "</g>\n",
       "<!-- 1301405446878381891 -->\n",
       "<g class=\"node\" id=\"node5\"><title>1301405446878381891</title>\n",
       "<polygon fill=\"none\" points=\"127.328,-351.533 38.2031,-351.533 38.2031,-315.533 127.328,-315.533 127.328,-351.533\" stroke=\"black\"/>\n",
       "<text font-family=\"Times,serif\" font-size=\"14.00\" text-anchor=\"middle\" x=\"82.7656\" y=\"-329.333\">cleaned_data</text>\n",
       "</g>\n",
       "<!-- &#45;6511657930570053112&#45;&gt;1301405446878381891 -->\n",
       "<g class=\"edge\" id=\"edge3\"><title>-6511657930570053112-&gt;1301405446878381891</title>\n",
       "<path d=\"M82.7656,-279.609C82.7656,-288.488 82.7656,-297.257 82.7656,-305.026\" fill=\"none\" stroke=\"black\"/>\n",
       "<polygon fill=\"black\" points=\"79.2657,-305.25 82.7656,-315.25 86.2657,-305.25 79.2657,-305.25\" stroke=\"black\"/>\n",
       "</g>\n",
       "<!-- 8302839576455506707 -->\n",
       "<g class=\"node\" id=\"node7\"><title>8302839576455506707</title>\n",
       "<polygon fill=\"green\" points=\"73.2984,-122.665 0.23289,-122.665 0.23289,-86.6649 73.2984,-86.6649 73.2984,-122.665\" stroke=\"green\"/>\n",
       "<text font-family=\"Times,serif\" font-size=\"14.00\" text-anchor=\"middle\" x=\"36.7656\" y=\"-100.465\">key_data2</text>\n",
       "</g>\n",
       "<!-- 8302839576455506707&#45;&gt;&#45;6511657930570053112 -->\n",
       "<g class=\"edge\" id=\"edge5\"><title>8302839576455506707-&gt;-6511657930570053112</title>\n",
       "<path d=\"M43.752,-122.741C47.2079,-131.188 51.6213,-141.975 56.2287,-153.237\" fill=\"none\" stroke=\"black\"/>\n",
       "<polygon fill=\"black\" points=\"53.1017,-154.837 60.1278,-162.767 59.5805,-152.187 53.1017,-154.837\" stroke=\"black\"/>\n",
       "</g>\n",
       "<!-- 2602786946457749208 -->\n",
       "<g class=\"node\" id=\"node8\"><title>2602786946457749208</title>\n",
       "<ellipse cx=\"36.7656\" cy=\"-25.3324\" fill=\"none\" rx=\"25.166\" ry=\"25.166\" stroke=\"black\"/>\n",
       "<text font-family=\"Times,serif\" font-size=\"14.00\" text-anchor=\"middle\" x=\"36.7656\" y=\"-21.1324\">load</text>\n",
       "</g>\n",
       "<!-- 2602786946457749208&#45;&gt;8302839576455506707 -->\n",
       "<g class=\"edge\" id=\"edge6\"><title>2602786946457749208-&gt;8302839576455506707</title>\n",
       "<path d=\"M36.7656,-50.8009C36.7656,-58.8005 36.7656,-67.7415 36.7656,-75.962\" fill=\"none\" stroke=\"black\"/>\n",
       "<polygon fill=\"black\" points=\"33.2657,-76.2135 36.7656,-86.2135 40.2657,-76.2136 33.2657,-76.2135\" stroke=\"black\"/>\n",
       "</g>\n",
       "</g>\n",
       "</svg>"
      ],
      "text/plain": [
       "<IPython.core.display.SVG object>"
      ]
     },
     "execution_count": 18,
     "metadata": {},
     "output_type": "execute_result"
    }
   ],
   "source": [
    "g.visualize(format='svg', raw_dask=False)"
   ]
  },
  {
   "cell_type": "markdown",
   "metadata": {},
   "source": [
    "## Persist method "
   ]
  },
  {
   "cell_type": "code",
   "execution_count": 19,
   "metadata": {
    "collapsed": false
   },
   "outputs": [],
   "source": [
    "# g.clean()"
   ]
  },
  {
   "cell_type": "code",
   "execution_count": 20,
   "metadata": {
    "collapsed": false
   },
   "outputs": [
    {
     "name": "stdout",
     "output_type": "stream",
     "text": [
      "load data for key key_data1 ...\n",
      "load data for key key_data2 ...\n",
      "load data for key analyze_data-6a3e11692e5564d1d8e7ab6bfad8efac ...\n",
      "clean data ...\n",
      "{'other': \"data_{'option': 20}\"}\n"
     ]
    }
   ],
   "source": [
    "data = g.persist()"
   ]
  },
  {
   "cell_type": "code",
   "execution_count": 21,
   "metadata": {
    "collapsed": false
   },
   "outputs": [
    {
     "data": {
      "text/plain": [
       "<persist.persist.PersistentDAG at 0x10d6d45a0>"
      ]
     },
     "execution_count": 21,
     "metadata": {},
     "output_type": "execute_result"
    }
   ],
   "source": [
    "data"
   ]
  },
  {
   "cell_type": "code",
   "execution_count": 22,
   "metadata": {
    "collapsed": false
   },
   "outputs": [
    {
     "name": "stdout",
     "output_type": "stream",
     "text": [
      "load data for key key_data1 ...\n",
      "load data for key analyze_data-6a3e11692e5564d1d8e7ab6bfad8efac ...\n",
      "load data for key key_data1 ...\n",
      "load data for key key_data2 ...\n",
      "clean data ...\n",
      "{'other': \"data_{'option': 20}\"}\n",
      "load data for key key_data2 ...\n"
     ]
    },
    {
     "data": {
      "text/plain": [
       "{'analyze_data-6a3e11692e5564d1d8e7ab6bfad8efac': Delayed('analyze_data-6a3e11692e5564d1d8e7ab6bfad8efac'),\n",
       " 'cleaned_data': Delayed('cleaned_data'),\n",
       " 'key_data1': Delayed('key_data1'),\n",
       " 'key_data2': Delayed('key_data2')}"
      ]
     },
     "execution_count": 22,
     "metadata": {},
     "output_type": "execute_result"
    }
   ],
   "source": [
    "g.run()"
   ]
  },
  {
   "cell_type": "code",
   "execution_count": 23,
   "metadata": {
    "collapsed": false
   },
   "outputs": [
    {
     "name": "stdout",
     "output_type": "stream",
     "text": [
      "load data for key analyze_data-6a3e11692e5564d1d8e7ab6bfad8efac ...\n"
     ]
    },
    {
     "data": {
      "text/plain": [
       "(\"analyzed_cleaned_data_{'option': 10}_other_data_{'option': 20}\",\n",
       " \"cleaned_data_{'option': 10}_other_data_{'option': 20}\")"
      ]
     },
     "execution_count": 23,
     "metadata": {},
     "output_type": "execute_result"
    }
   ],
   "source": [
    "data.compute()"
   ]
  },
  {
   "cell_type": "code",
   "execution_count": 24,
   "metadata": {
    "collapsed": false
   },
   "outputs": [
    {
     "data": {
      "text/plain": [
       "{'analyze_data-6a3e11692e5564d1d8e7ab6bfad8efac': \"analyzed_cleaned_data_{'option': 10}_other_data_{'option': 20}\",\n",
       " 'key_data1': \"data_{'option': 10}\",\n",
       " 'key_data2': \"data_{'option': 20}\"}"
      ]
     },
     "execution_count": 24,
     "metadata": {},
     "output_type": "execute_result"
    }
   ],
   "source": [
    "IS_COMPUTED"
   ]
  },
  {
   "cell_type": "code",
   "execution_count": 25,
   "metadata": {
    "collapsed": false
   },
   "outputs": [
    {
     "data": {
      "image/svg+xml": [
       "<svg height=\"614pt\" viewBox=\"0.00 0.00 195.55 613.94\" width=\"196pt\" xmlns=\"http://www.w3.org/2000/svg\" xmlns:xlink=\"http://www.w3.org/1999/xlink\">\n",
       "<g class=\"graph\" id=\"graph0\" transform=\"scale(1 1) rotate(0) translate(4 609.939)\">\n",
       "<title>%3</title>\n",
       "<polygon fill=\"white\" points=\"-4,4 -4,-609.939 191.553,-609.939 191.553,4 -4,4\" stroke=\"none\"/>\n",
       "<!-- 8302839576455506704 -->\n",
       "<g class=\"node\" id=\"node1\"><title>8302839576455506704</title>\n",
       "<polygon fill=\"green\" points=\"178.809,-156.553 105.744,-156.553 105.744,-120.553 178.809,-120.553 178.809,-156.553\" stroke=\"green\"/>\n",
       "<text font-family=\"Times,serif\" font-size=\"14.00\" text-anchor=\"middle\" x=\"142.277\" y=\"-134.353\">key_data1</text>\n",
       "</g>\n",
       "<!-- &#45;6511657930570053112 -->\n",
       "<g class=\"node\" id=\"node6\"><title>-6511657930570053112</title>\n",
       "<ellipse cx=\"93.2767\" cy=\"-252.988\" fill=\"none\" rx=\"60.3686\" ry=\"60.3686\" stroke=\"black\"/>\n",
       "<text font-family=\"Times,serif\" font-size=\"14.00\" text-anchor=\"middle\" x=\"93.2767\" y=\"-248.788\">clean_data(...)</text>\n",
       "</g>\n",
       "<!-- 8302839576455506704&#45;&gt;&#45;6511657930570053112 -->\n",
       "<g class=\"edge\" id=\"edge5\"><title>8302839576455506704-&gt;-6511657930570053112</title>\n",
       "<path d=\"M134.835,-156.63C131.074,-165.258 126.25,-176.328 121.228,-187.852\" fill=\"none\" stroke=\"black\"/>\n",
       "<polygon fill=\"black\" points=\"117.961,-186.587 117.174,-197.152 124.378,-189.383 117.961,-186.587\" stroke=\"black\"/>\n",
       "</g>\n",
       "<!-- 2602785972972244883 -->\n",
       "<g class=\"node\" id=\"node2\"><title>2602785972972244883</title>\n",
       "<ellipse cx=\"145.277\" cy=\"-42.2767\" fill=\"none\" rx=\"42.0545\" ry=\"42.0545\" stroke=\"black\"/>\n",
       "<text font-family=\"Times,serif\" font-size=\"14.00\" text-anchor=\"middle\" x=\"145.277\" y=\"-38.0767\">apply(...)</text>\n",
       "</g>\n",
       "<!-- 2602785972972244883&#45;&gt;8302839576455506704 -->\n",
       "<g class=\"edge\" id=\"edge1\"><title>2602785972972244883-&gt;8302839576455506704</title>\n",
       "<path d=\"M143.961,-84.6278C143.688,-93.1992 143.407,-102.03 143.155,-109.963\" fill=\"none\" stroke=\"black\"/>\n",
       "<polygon fill=\"black\" points=\"139.651,-110.009 142.832,-120.116 146.648,-110.232 139.651,-110.009\" stroke=\"black\"/>\n",
       "</g>\n",
       "<!-- 3243188021646568514 -->\n",
       "<g class=\"node\" id=\"node3\"><title>3243188021646568514</title>\n",
       "<polygon fill=\"green\" points=\"147.002,-605.939 39.5517,-605.939 39.5517,-569.939 147.002,-569.939 147.002,-605.939\" stroke=\"green\"/>\n",
       "<text font-family=\"Times,serif\" font-size=\"14.00\" text-anchor=\"middle\" x=\"93.2767\" y=\"-583.739\">analyze_data-#0</text>\n",
       "</g>\n",
       "<!-- 6649563791053254257 -->\n",
       "<g class=\"node\" id=\"node4\"><title>6649563791053254257</title>\n",
       "<ellipse cx=\"93.2767\" cy=\"-477.68\" fill=\"none\" rx=\"56.0183\" ry=\"56.0183\" stroke=\"black\"/>\n",
       "<text font-family=\"Times,serif\" font-size=\"14.00\" text-anchor=\"middle\" x=\"93.2767\" y=\"-473.48\">analyze_data</text>\n",
       "</g>\n",
       "<!-- 6649563791053254257&#45;&gt;3243188021646568514 -->\n",
       "<g class=\"edge\" id=\"edge2\"><title>6649563791053254257-&gt;3243188021646568514</title>\n",
       "<path d=\"M93.2767,-534.078C93.2767,-542.847 93.2767,-551.572 93.2767,-559.331\" fill=\"none\" stroke=\"black\"/>\n",
       "<polygon fill=\"black\" points=\"89.7768,-559.561 93.2767,-569.561 96.7768,-559.561 89.7768,-559.561\" stroke=\"black\"/>\n",
       "</g>\n",
       "<!-- 1301405446878381891 -->\n",
       "<g class=\"node\" id=\"node5\"><title>1301405446878381891</title>\n",
       "<polygon fill=\"none\" points=\"137.839,-385.422 48.7141,-385.422 48.7141,-349.422 137.839,-349.422 137.839,-385.422\" stroke=\"black\"/>\n",
       "<text font-family=\"Times,serif\" font-size=\"14.00\" text-anchor=\"middle\" x=\"93.2767\" y=\"-363.222\">cleaned_data</text>\n",
       "</g>\n",
       "<!-- 1301405446878381891&#45;&gt;6649563791053254257 -->\n",
       "<g class=\"edge\" id=\"edge3\"><title>1301405446878381891-&gt;6649563791053254257</title>\n",
       "<path d=\"M93.2767,-385.815C93.2767,-393.014 93.2767,-401.854 93.2767,-411.164\" fill=\"none\" stroke=\"black\"/>\n",
       "<polygon fill=\"black\" points=\"89.7768,-411.397 93.2767,-421.397 96.7768,-411.397 89.7768,-411.397\" stroke=\"black\"/>\n",
       "</g>\n",
       "<!-- &#45;6511657930570053112&#45;&gt;1301405446878381891 -->\n",
       "<g class=\"edge\" id=\"edge4\"><title>-6511657930570053112-&gt;1301405446878381891</title>\n",
       "<path d=\"M93.2767,-313.497C93.2767,-322.376 93.2767,-331.145 93.2767,-338.914\" fill=\"none\" stroke=\"black\"/>\n",
       "<polygon fill=\"black\" points=\"89.7768,-339.139 93.2767,-349.139 96.7768,-339.139 89.7768,-339.139\" stroke=\"black\"/>\n",
       "</g>\n",
       "<!-- 8302839576455506707 -->\n",
       "<g class=\"node\" id=\"node7\"><title>8302839576455506707</title>\n",
       "<polygon fill=\"green\" points=\"81.8094,-156.553 8.74392,-156.553 8.74392,-120.553 81.8094,-120.553 81.8094,-156.553\" stroke=\"green\"/>\n",
       "<text font-family=\"Times,serif\" font-size=\"14.00\" text-anchor=\"middle\" x=\"45.2767\" y=\"-134.353\">key_data2</text>\n",
       "</g>\n",
       "<!-- 8302839576455506707&#45;&gt;&#45;6511657930570053112 -->\n",
       "<g class=\"edge\" id=\"edge6\"><title>8302839576455506707-&gt;-6511657930570053112</title>\n",
       "<path d=\"M52.5668,-156.63C56.2504,-165.258 60.9765,-176.328 65.896,-187.852\" fill=\"none\" stroke=\"black\"/>\n",
       "<polygon fill=\"black\" points=\"62.7212,-189.33 69.8666,-197.152 69.1591,-186.581 62.7212,-189.33\" stroke=\"black\"/>\n",
       "</g>\n",
       "<!-- 2602786946457749208 -->\n",
       "<g class=\"node\" id=\"node8\"><title>2602786946457749208</title>\n",
       "<ellipse cx=\"42.2767\" cy=\"-42.2767\" fill=\"none\" rx=\"42.0545\" ry=\"42.0545\" stroke=\"black\"/>\n",
       "<text font-family=\"Times,serif\" font-size=\"14.00\" text-anchor=\"middle\" x=\"42.2767\" y=\"-38.0767\">apply(...)</text>\n",
       "</g>\n",
       "<!-- 2602786946457749208&#45;&gt;8302839576455506707 -->\n",
       "<g class=\"edge\" id=\"edge7\"><title>2602786946457749208-&gt;8302839576455506707</title>\n",
       "<path d=\"M43.5925,-84.6278C43.8653,-93.1992 44.1463,-102.03 44.3987,-109.963\" fill=\"none\" stroke=\"black\"/>\n",
       "<polygon fill=\"black\" points=\"40.9054,-110.232 44.7218,-120.116 47.9018,-110.009 40.9054,-110.232\" stroke=\"black\"/>\n",
       "</g>\n",
       "</g>\n",
       "</svg>"
      ],
      "text/plain": [
       "<IPython.core.display.SVG object>"
      ]
     },
     "execution_count": 25,
     "metadata": {},
     "output_type": "execute_result"
    }
   ],
   "source": [
    "g.visualize(format='svg')"
   ]
  },
  {
   "cell_type": "code",
   "execution_count": 26,
   "metadata": {
    "collapsed": false
   },
   "outputs": [
    {
     "name": "stdout",
     "output_type": "stream",
     "text": [
      "load data ...\n",
      "{'option': 10}\n",
      "save data with key key_data1 ...\n",
      "load data ...\n",
      "{'option': 20}\n",
      "save data with key key_data2 ...\n",
      "clean data ...\n",
      "{'other': \"data_{'option': 20}\"}\n",
      "analyze data ...\n"
     ]
    },
    {
     "data": {
      "text/plain": [
       "\"analyzed_cleaned_data_{'option': 10}_other_data_{'option': 20}\""
      ]
     },
     "execution_count": 26,
     "metadata": {},
     "output_type": "execute_result"
    }
   ],
   "source": [
    "data = g.submit(analyze_data, 'cleaned_data')\n",
    "data.compute()"
   ]
  },
  {
   "cell_type": "code",
   "execution_count": 27,
   "metadata": {
    "collapsed": false
   },
   "outputs": [
    {
     "name": "stdout",
     "output_type": "stream",
     "text": [
      "load data for key key_data1 ...\n",
      "load data for key key_data2 ...\n"
     ]
    }
   ],
   "source": [
    "import dask\n",
    "with dask.set_options(get=dask.async.get_sync):\n",
    "    g.run()"
   ]
  },
  {
   "cell_type": "code",
   "execution_count": 28,
   "metadata": {
    "collapsed": false
   },
   "outputs": [
    {
     "data": {
      "text/plain": [
       "{'analyze_data-6a3e11692e5564d1d8e7ab6bfad8efac': \"analyzed_cleaned_data_{'option': 10}_other_data_{'option': 20}\",\n",
       " 'key_data1': \"data_{'option': 10}\",\n",
       " 'key_data2': \"data_{'option': 20}\"}"
      ]
     },
     "execution_count": 28,
     "metadata": {},
     "output_type": "execute_result"
    }
   ],
   "source": [
    "IS_COMPUTED"
   ]
  },
  {
   "cell_type": "code",
   "execution_count": 31,
   "metadata": {
    "collapsed": false,
    "scrolled": false
   },
   "outputs": [
    {
     "name": "stderr",
     "output_type": "stream",
     "text": [
      "distributed.comm.tcp - WARNING - Could not set timeout on TCP stream: [Errno 42] Protocol not available\n",
      "distributed.comm.tcp - WARNING - Could not set timeout on TCP stream: [Errno 42] Protocol not available\n",
      "distributed.comm.tcp - WARNING - Could not set timeout on TCP stream: [Errno 42] Protocol not available\n",
      "distributed.comm.tcp - WARNING - Could not set timeout on TCP stream: [Errno 42] Protocol not available\n",
      "distributed.comm.tcp - WARNING - Could not set timeout on TCP stream: [Errno 42] Protocol not available\n",
      "distributed.comm.tcp - WARNING - Could not set timeout on TCP stream: [Errno 42] Protocol not available\n",
      "distributed.comm.tcp - WARNING - Could not set timeout on TCP stream: [Errno 42] Protocol not available\n",
      "distributed.comm.tcp - WARNING - Could not set timeout on TCP stream: [Errno 42] Protocol not available\n",
      "distributed.comm.tcp - WARNING - Could not set timeout on TCP stream: [Errno 42] Protocol not available\n",
      "distributed.comm.tcp - WARNING - Could not set timeout on TCP stream: [Errno 42] Protocol not available\n",
      "distributed.comm.tcp - WARNING - Could not set timeout on TCP stream: [Errno 42] Protocol not available\n",
      "distributed.comm.tcp - WARNING - Could not set timeout on TCP stream: [Errno 42] Protocol not available\n"
     ]
    }
   ],
   "source": [
    "from distributed import Client\n",
    "client = Client()\n",
    "global IS_COMPUTED\n",
    "IS_COMPUTED = {}"
   ]
  },
  {
   "cell_type": "code",
   "execution_count": 32,
   "metadata": {
    "collapsed": false
   },
   "outputs": [
    {
     "data": {
      "text/plain": [
       "<persist.persist.PersistentDAG at 0x110ffce10>"
      ]
     },
     "execution_count": 32,
     "metadata": {},
     "output_type": "execute_result"
    }
   ],
   "source": [
    "g.persist()"
   ]
  },
  {
   "cell_type": "code",
   "execution_count": 33,
   "metadata": {
    "collapsed": false
   },
   "outputs": [
    {
     "name": "stderr",
     "output_type": "stream",
     "text": [
      "distributed.comm.tcp - WARNING - Could not set timeout on TCP stream: [Errno 42] Protocol not available\n",
      "distributed.comm.tcp - WARNING - Could not set timeout on TCP stream: [Errno 42] Protocol not available\n"
     ]
    },
    {
     "data": {
      "text/plain": [
       "[\"data_{'option': 10}\",\n",
       " \"analyzed_cleaned_data_{'option': 10}_other_data_{'option': 20}\",\n",
       " \"cleaned_data_{'option': 10}_other_data_{'option': 20}\",\n",
       " \"data_{'option': 20}\"]"
      ]
     },
     "execution_count": 33,
     "metadata": {},
     "output_type": "execute_result"
    }
   ],
   "source": [
    "g.compute()"
   ]
  },
  {
   "cell_type": "code",
   "execution_count": 34,
   "metadata": {
    "collapsed": false
   },
   "outputs": [
    {
     "data": {
      "image/svg+xml": [
       "<svg height=\"614pt\" viewBox=\"0.00 0.00 195.55 613.94\" width=\"196pt\" xmlns=\"http://www.w3.org/2000/svg\" xmlns:xlink=\"http://www.w3.org/1999/xlink\">\n",
       "<g class=\"graph\" id=\"graph0\" transform=\"scale(1 1) rotate(0) translate(4 609.939)\">\n",
       "<title>%3</title>\n",
       "<polygon fill=\"white\" points=\"-4,4 -4,-609.939 191.553,-609.939 191.553,4 -4,4\" stroke=\"none\"/>\n",
       "<!-- 8302839576455506704 -->\n",
       "<g class=\"node\" id=\"node1\"><title>8302839576455506704</title>\n",
       "<polygon fill=\"red\" points=\"178.809,-156.553 105.744,-156.553 105.744,-120.553 178.809,-120.553 178.809,-156.553\" stroke=\"red\"/>\n",
       "<text font-family=\"Times,serif\" font-size=\"14.00\" text-anchor=\"middle\" x=\"142.277\" y=\"-134.353\">key_data1</text>\n",
       "</g>\n",
       "<!-- &#45;6511657930570053112 -->\n",
       "<g class=\"node\" id=\"node6\"><title>-6511657930570053112</title>\n",
       "<ellipse cx=\"93.2767\" cy=\"-252.988\" fill=\"none\" rx=\"60.3686\" ry=\"60.3686\" stroke=\"black\"/>\n",
       "<text font-family=\"Times,serif\" font-size=\"14.00\" text-anchor=\"middle\" x=\"93.2767\" y=\"-248.788\">clean_data(...)</text>\n",
       "</g>\n",
       "<!-- 8302839576455506704&#45;&gt;&#45;6511657930570053112 -->\n",
       "<g class=\"edge\" id=\"edge5\"><title>8302839576455506704-&gt;-6511657930570053112</title>\n",
       "<path d=\"M134.835,-156.63C131.074,-165.258 126.25,-176.328 121.228,-187.852\" fill=\"none\" stroke=\"black\"/>\n",
       "<polygon fill=\"black\" points=\"117.961,-186.587 117.174,-197.152 124.378,-189.383 117.961,-186.587\" stroke=\"black\"/>\n",
       "</g>\n",
       "<!-- 2602785972972244883 -->\n",
       "<g class=\"node\" id=\"node2\"><title>2602785972972244883</title>\n",
       "<ellipse cx=\"145.277\" cy=\"-42.2767\" fill=\"none\" rx=\"42.0545\" ry=\"42.0545\" stroke=\"black\"/>\n",
       "<text font-family=\"Times,serif\" font-size=\"14.00\" text-anchor=\"middle\" x=\"145.277\" y=\"-38.0767\">apply(...)</text>\n",
       "</g>\n",
       "<!-- 2602785972972244883&#45;&gt;8302839576455506704 -->\n",
       "<g class=\"edge\" id=\"edge1\"><title>2602785972972244883-&gt;8302839576455506704</title>\n",
       "<path d=\"M143.961,-84.6278C143.688,-93.1992 143.407,-102.03 143.155,-109.963\" fill=\"none\" stroke=\"black\"/>\n",
       "<polygon fill=\"black\" points=\"139.651,-110.009 142.832,-120.116 146.648,-110.232 139.651,-110.009\" stroke=\"black\"/>\n",
       "</g>\n",
       "<!-- 3243188021646568514 -->\n",
       "<g class=\"node\" id=\"node3\"><title>3243188021646568514</title>\n",
       "<polygon fill=\"red\" points=\"147.002,-605.939 39.5517,-605.939 39.5517,-569.939 147.002,-569.939 147.002,-605.939\" stroke=\"red\"/>\n",
       "<text font-family=\"Times,serif\" font-size=\"14.00\" text-anchor=\"middle\" x=\"93.2767\" y=\"-583.739\">analyze_data-#0</text>\n",
       "</g>\n",
       "<!-- 6649563791053254257 -->\n",
       "<g class=\"node\" id=\"node4\"><title>6649563791053254257</title>\n",
       "<ellipse cx=\"93.2767\" cy=\"-477.68\" fill=\"none\" rx=\"56.0183\" ry=\"56.0183\" stroke=\"black\"/>\n",
       "<text font-family=\"Times,serif\" font-size=\"14.00\" text-anchor=\"middle\" x=\"93.2767\" y=\"-473.48\">analyze_data</text>\n",
       "</g>\n",
       "<!-- 6649563791053254257&#45;&gt;3243188021646568514 -->\n",
       "<g class=\"edge\" id=\"edge2\"><title>6649563791053254257-&gt;3243188021646568514</title>\n",
       "<path d=\"M93.2767,-534.078C93.2767,-542.847 93.2767,-551.572 93.2767,-559.331\" fill=\"none\" stroke=\"black\"/>\n",
       "<polygon fill=\"black\" points=\"89.7768,-559.561 93.2767,-569.561 96.7768,-559.561 89.7768,-559.561\" stroke=\"black\"/>\n",
       "</g>\n",
       "<!-- 1301405446878381891 -->\n",
       "<g class=\"node\" id=\"node5\"><title>1301405446878381891</title>\n",
       "<polygon fill=\"none\" points=\"137.839,-385.422 48.7141,-385.422 48.7141,-349.422 137.839,-349.422 137.839,-385.422\" stroke=\"black\"/>\n",
       "<text font-family=\"Times,serif\" font-size=\"14.00\" text-anchor=\"middle\" x=\"93.2767\" y=\"-363.222\">cleaned_data</text>\n",
       "</g>\n",
       "<!-- 1301405446878381891&#45;&gt;6649563791053254257 -->\n",
       "<g class=\"edge\" id=\"edge3\"><title>1301405446878381891-&gt;6649563791053254257</title>\n",
       "<path d=\"M93.2767,-385.815C93.2767,-393.014 93.2767,-401.854 93.2767,-411.164\" fill=\"none\" stroke=\"black\"/>\n",
       "<polygon fill=\"black\" points=\"89.7768,-411.397 93.2767,-421.397 96.7768,-411.397 89.7768,-411.397\" stroke=\"black\"/>\n",
       "</g>\n",
       "<!-- &#45;6511657930570053112&#45;&gt;1301405446878381891 -->\n",
       "<g class=\"edge\" id=\"edge4\"><title>-6511657930570053112-&gt;1301405446878381891</title>\n",
       "<path d=\"M93.2767,-313.497C93.2767,-322.376 93.2767,-331.145 93.2767,-338.914\" fill=\"none\" stroke=\"black\"/>\n",
       "<polygon fill=\"black\" points=\"89.7768,-339.139 93.2767,-349.139 96.7768,-339.139 89.7768,-339.139\" stroke=\"black\"/>\n",
       "</g>\n",
       "<!-- 8302839576455506707 -->\n",
       "<g class=\"node\" id=\"node7\"><title>8302839576455506707</title>\n",
       "<polygon fill=\"red\" points=\"81.8094,-156.553 8.74392,-156.553 8.74392,-120.553 81.8094,-120.553 81.8094,-156.553\" stroke=\"red\"/>\n",
       "<text font-family=\"Times,serif\" font-size=\"14.00\" text-anchor=\"middle\" x=\"45.2767\" y=\"-134.353\">key_data2</text>\n",
       "</g>\n",
       "<!-- 8302839576455506707&#45;&gt;&#45;6511657930570053112 -->\n",
       "<g class=\"edge\" id=\"edge6\"><title>8302839576455506707-&gt;-6511657930570053112</title>\n",
       "<path d=\"M52.5668,-156.63C56.2504,-165.258 60.9765,-176.328 65.896,-187.852\" fill=\"none\" stroke=\"black\"/>\n",
       "<polygon fill=\"black\" points=\"62.7212,-189.33 69.8666,-197.152 69.1591,-186.581 62.7212,-189.33\" stroke=\"black\"/>\n",
       "</g>\n",
       "<!-- 2602786946457749208 -->\n",
       "<g class=\"node\" id=\"node8\"><title>2602786946457749208</title>\n",
       "<ellipse cx=\"42.2767\" cy=\"-42.2767\" fill=\"none\" rx=\"42.0545\" ry=\"42.0545\" stroke=\"black\"/>\n",
       "<text font-family=\"Times,serif\" font-size=\"14.00\" text-anchor=\"middle\" x=\"42.2767\" y=\"-38.0767\">apply(...)</text>\n",
       "</g>\n",
       "<!-- 2602786946457749208&#45;&gt;8302839576455506707 -->\n",
       "<g class=\"edge\" id=\"edge7\"><title>2602786946457749208-&gt;8302839576455506707</title>\n",
       "<path d=\"M43.5925,-84.6278C43.8653,-93.1992 44.1463,-102.03 44.3987,-109.963\" fill=\"none\" stroke=\"black\"/>\n",
       "<polygon fill=\"black\" points=\"40.9054,-110.232 44.7218,-120.116 47.9018,-110.009 40.9054,-110.232\" stroke=\"black\"/>\n",
       "</g>\n",
       "</g>\n",
       "</svg>"
      ],
      "text/plain": [
       "<IPython.core.display.SVG object>"
      ]
     },
     "execution_count": 34,
     "metadata": {},
     "output_type": "execute_result"
    }
   ],
   "source": [
    "g.visualize(format='svg')"
   ]
  },
  {
   "cell_type": "code",
   "execution_count": 35,
   "metadata": {
    "collapsed": false
   },
   "outputs": [
    {
     "name": "stderr",
     "output_type": "stream",
     "text": [
      "distributed.comm.tcp - WARNING - Could not set timeout on TCP stream: [Errno 42] Protocol not available\n",
      "distributed.comm.tcp - WARNING - Could not set timeout on TCP stream: [Errno 42] Protocol not available\n",
      "distributed.comm.tcp - WARNING - Could not set timeout on TCP stream: [Errno 42] Protocol not available\n"
     ]
    }
   ],
   "source": [
    "# TODO: we have to use a real serializer in order to make things work with futures."
   ]
  }
 ],
 "metadata": {
  "kernelspec": {
   "display_name": "Python 2",
   "language": "python",
   "name": "python2"
  },
  "language_info": {
   "codemirror_mode": {
    "name": "ipython",
    "version": 2
   },
   "file_extension": ".py",
   "mimetype": "text/x-python",
   "name": "python",
   "nbconvert_exporter": "python",
   "pygments_lexer": "ipython2",
   "version": "2.7.11"
  }
 },
 "nbformat": 4,
 "nbformat_minor": 0
}
