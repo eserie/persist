{
 "cells": [
  {
   "cell_type": "code",
   "execution_count": 1,
   "metadata": {
    "collapsed": true
   },
   "outputs": [],
   "source": [
    "%load_ext autoreload\n",
    "%autoreload 2"
   ]
  },
  {
   "cell_type": "code",
   "execution_count": 2,
   "metadata": {
    "collapsed": true
   },
   "outputs": [],
   "source": [
    "from persist.persist import PersistentDAG\n",
    "\n",
    "from persist.persist import PersistentDAG\n",
    "from functools import wraps\n",
    "\n",
    "# global variable to simulate the fact to have serialize data somewhere\n",
    "global IS_COMPUTED\n",
    "IS_COMPUTED = dict()\n",
    "\n",
    "from time import sleep\n",
    "def load_data(*args, **kwargs):\n",
    "    sleep(2)\n",
    "    print 'load data ...'\n",
    "    if args:\n",
    "        print args\n",
    "        return 'data_{}'.format(args)\n",
    "    if kwargs:\n",
    "        print kwargs\n",
    "        return 'data_{}'.format(kwargs)\n",
    "    return 'data'\n",
    "\n",
    "\n",
    "def clean_data(data, *args, **kwargs):\n",
    "    assert isinstance(data, str)\n",
    "    print 'clean data ...'\n",
    "    if args:\n",
    "        print args\n",
    "        data = data + '_' + '_'.join(map(lambda x: '{}'.format(x), args))\n",
    "    if kwargs:\n",
    "        print kwargs\n",
    "        data = data + '_' + \\\n",
    "            '_'.join(map(lambda kv: '{}_{}'.format(\n",
    "                kv[0], kv[1]), kwargs.items()))\n",
    "    return 'cleaned_{}'.format(data)\n",
    "\n",
    "\n",
    "def analyze_data(cleaned_data, option=1, **other_options):\n",
    "    assert isinstance(cleaned_data, str)\n",
    "    print 'analyze data ...'\n",
    "    return 'analyzed_{}'.format(cleaned_data)\n",
    "\n",
    "\n",
    "\n",
    "class Serializer(object):\n",
    "\n",
    "    def __init__(self):\n",
    "        pass\n",
    "\n",
    "    def load(self, key):\n",
    "        print \"load data for key {} ...\".format(key)\n",
    "        return IS_COMPUTED[key]\n",
    "\n",
    "    def dump(self, key, value):\n",
    "        print \"save data with key {} ...\".format(key)\n",
    "        IS_COMPUTED[key] = value\n",
    "\n",
    "    def is_computed(self, key):\n",
    "        global IS_COMPUTED\n",
    "        return IS_COMPUTED.get(key) is not None\n",
    "\n",
    "    def delayed_load(self, key):\n",
    "        def load():\n",
    "            return self.load(key)\n",
    "        return load\n",
    "\n",
    "    def dump_result(self, func, key):\n",
    "        @wraps(func)\n",
    "        def wrapped_func(*args, **kwargs):\n",
    "            result = func(*args, **kwargs)\n",
    "            self.dump(key, result)\n",
    "            return result\n",
    "        return wrapped_func"
   ]
  },
  {
   "cell_type": "code",
   "execution_count": 3,
   "metadata": {
    "collapsed": false
   },
   "outputs": [],
   "source": [
    "def setup_graph():\n",
    "    g = PersistentDAG()\n",
    "    serializer = Serializer()\n",
    "    g.add_task(load_data, option=10,\n",
    "               dask_key_name='key_data1', \n",
    "               dask_serializer=serializer \n",
    "              )\n",
    "    g.add_task(load_data, option=20,\n",
    "               dask_key_name='key_data2', \n",
    "               dask_serializer=serializer\n",
    "              )\n",
    "\n",
    "    kwargs = dict(data='key_data1', other='key_data2')\n",
    "    g.add_task(clean_data,\n",
    "               dask_key_name='cleaned_data', \n",
    "               #dask_serializer=serializer,\n",
    "               **kwargs)\n",
    "    g.add_task(analyze_data, 'cleaned_data',\n",
    "               # dask_key_name='analyzed_data', \n",
    "              dask_serializer=serializer)\n",
    "    return g"
   ]
  },
  {
   "cell_type": "code",
   "execution_count": 4,
   "metadata": {
    "collapsed": true
   },
   "outputs": [],
   "source": [
    "g = setup_graph()"
   ]
  },
  {
   "cell_type": "code",
   "execution_count": 5,
   "metadata": {
    "collapsed": false
   },
   "outputs": [
    {
     "data": {
      "image/svg+xml": [
       "<svg height=\"643pt\" viewBox=\"0.00 0.00 254.01 643.40\" width=\"254pt\" xmlns=\"http://www.w3.org/2000/svg\" xmlns:xlink=\"http://www.w3.org/1999/xlink\">\n",
       "<g class=\"graph\" id=\"graph0\" transform=\"scale(1 1) rotate(0) translate(4 639.397)\">\n",
       "<title>%3</title>\n",
       "<polygon fill=\"white\" points=\"-4,4 -4,-639.397 250.011,-639.397 250.011,4 -4,4\" stroke=\"none\"/>\n",
       "<!-- 8302839576455506704 -->\n",
       "<g class=\"node\" id=\"node1\"><title>8302839576455506704</title>\n",
       "<polygon fill=\"red\" points=\"215.538,-186.011 142.473,-186.011 142.473,-150.011 215.538,-150.011 215.538,-186.011\" stroke=\"red\"/>\n",
       "<text font-family=\"Times,serif\" font-size=\"14.00\" text-anchor=\"middle\" x=\"179.006\" y=\"-163.811\">key_data1</text>\n",
       "</g>\n",
       "<!-- &#45;6511657930570053112 -->\n",
       "<g class=\"node\" id=\"node4\"><title>-6511657930570053112</title>\n",
       "<ellipse cx=\"123.006\" cy=\"-282.446\" fill=\"none\" rx=\"60.3686\" ry=\"60.3686\" stroke=\"black\"/>\n",
       "<text font-family=\"Times,serif\" font-size=\"14.00\" text-anchor=\"middle\" x=\"123.006\" y=\"-278.246\">clean_data(...)</text>\n",
       "</g>\n",
       "<!-- 8302839576455506704&#45;&gt;&#45;6511657930570053112 -->\n",
       "<g class=\"edge\" id=\"edge3\"><title>8302839576455506704-&gt;-6511657930570053112</title>\n",
       "<path d=\"M170.5,-186.088C166.014,-195.095 160.202,-206.764 154.192,-218.831\" fill=\"none\" stroke=\"black\"/>\n",
       "<polygon fill=\"black\" points=\"150.901,-217.588 149.576,-228.099 157.167,-220.709 150.901,-217.588\" stroke=\"black\"/>\n",
       "</g>\n",
       "<!-- 2602785972972244883 -->\n",
       "<g class=\"node\" id=\"node2\"><title>2602785972972244883</title>\n",
       "<ellipse cx=\"189.006\" cy=\"-57.0057\" fill=\"none\" rx=\"57.0114\" ry=\"57.0114\" stroke=\"black\"/>\n",
       "<text font-family=\"Times,serif\" font-size=\"14.00\" text-anchor=\"middle\" x=\"189.006\" y=\"-52.8057\">load_data(...)</text>\n",
       "</g>\n",
       "<!-- 2602785972972244883&#45;&gt;8302839576455506704 -->\n",
       "<g class=\"edge\" id=\"edge1\"><title>2602785972972244883-&gt;8302839576455506704</title>\n",
       "<path d=\"M183.889,-113.786C183.056,-122.861 182.228,-131.889 181.496,-139.862\" fill=\"none\" stroke=\"black\"/>\n",
       "<polygon fill=\"black\" points=\"177.996,-139.709 180.568,-149.987 184.967,-140.348 177.996,-139.709\" stroke=\"black\"/>\n",
       "</g>\n",
       "<!-- 1301405446878381891 -->\n",
       "<g class=\"node\" id=\"node3\"><title>1301405446878381891</title>\n",
       "<polygon fill=\"none\" points=\"167.568,-414.88 78.4432,-414.88 78.4432,-378.88 167.568,-378.88 167.568,-414.88\" stroke=\"black\"/>\n",
       "<text font-family=\"Times,serif\" font-size=\"14.00\" text-anchor=\"middle\" x=\"123.006\" y=\"-392.68\">cleaned_data</text>\n",
       "</g>\n",
       "<!-- &#45;8485026711028619945 -->\n",
       "<g class=\"node\" id=\"node7\"><title>-8485026711028619945</title>\n",
       "<ellipse cx=\"123.006\" cy=\"-507.139\" fill=\"none\" rx=\"56.0183\" ry=\"56.0183\" stroke=\"black\"/>\n",
       "<text font-family=\"Times,serif\" font-size=\"14.00\" text-anchor=\"middle\" x=\"123.006\" y=\"-502.939\">analyze_data</text>\n",
       "</g>\n",
       "<!-- 1301405446878381891&#45;&gt;&#45;8485026711028619945 -->\n",
       "<g class=\"edge\" id=\"edge6\"><title>1301405446878381891-&gt;-8485026711028619945</title>\n",
       "<path d=\"M123.006,-415.274C123.006,-422.472 123.006,-431.312 123.006,-440.622\" fill=\"none\" stroke=\"black\"/>\n",
       "<polygon fill=\"black\" points=\"119.506,-440.855 123.006,-450.855 126.506,-440.855 119.506,-440.855\" stroke=\"black\"/>\n",
       "</g>\n",
       "<!-- &#45;6511657930570053112&#45;&gt;1301405446878381891 -->\n",
       "<g class=\"edge\" id=\"edge2\"><title>-6511657930570053112-&gt;1301405446878381891</title>\n",
       "<path d=\"M123.006,-342.955C123.006,-351.834 123.006,-360.603 123.006,-368.372\" fill=\"none\" stroke=\"black\"/>\n",
       "<polygon fill=\"black\" points=\"119.506,-368.597 123.006,-378.597 126.506,-368.597 119.506,-368.597\" stroke=\"black\"/>\n",
       "</g>\n",
       "<!-- 8302839576455506707 -->\n",
       "<g class=\"node\" id=\"node5\"><title>8302839576455506707</title>\n",
       "<polygon fill=\"red\" points=\"103.538,-186.011 30.473,-186.011 30.473,-150.011 103.538,-150.011 103.538,-186.011\" stroke=\"red\"/>\n",
       "<text font-family=\"Times,serif\" font-size=\"14.00\" text-anchor=\"middle\" x=\"67.0057\" y=\"-163.811\">key_data2</text>\n",
       "</g>\n",
       "<!-- 8302839576455506707&#45;&gt;&#45;6511657930570053112 -->\n",
       "<g class=\"edge\" id=\"edge4\"><title>8302839576455506707-&gt;-6511657930570053112</title>\n",
       "<path d=\"M75.5109,-186.088C79.9972,-195.095 85.8091,-206.764 91.8194,-218.831\" fill=\"none\" stroke=\"black\"/>\n",
       "<polygon fill=\"black\" points=\"88.8443,-220.709 96.4356,-228.099 95.1101,-217.588 88.8443,-220.709\" stroke=\"black\"/>\n",
       "</g>\n",
       "<!-- 6301117075596542908 -->\n",
       "<g class=\"node\" id=\"node6\"><title>6301117075596542908</title>\n",
       "<polygon fill=\"red\" points=\"176.731,-635.397 69.2807,-635.397 69.2807,-599.397 176.731,-599.397 176.731,-635.397\" stroke=\"red\"/>\n",
       "<text font-family=\"Times,serif\" font-size=\"14.00\" text-anchor=\"middle\" x=\"123.006\" y=\"-613.197\">analyze_data-#0</text>\n",
       "</g>\n",
       "<!-- &#45;8485026711028619945&#45;&gt;6301117075596542908 -->\n",
       "<g class=\"edge\" id=\"edge5\"><title>-8485026711028619945-&gt;6301117075596542908</title>\n",
       "<path d=\"M123.006,-563.536C123.006,-572.305 123.006,-581.03 123.006,-588.789\" fill=\"none\" stroke=\"black\"/>\n",
       "<polygon fill=\"black\" points=\"119.506,-589.019 123.006,-599.019 126.506,-589.019 119.506,-589.019\" stroke=\"black\"/>\n",
       "</g>\n",
       "<!-- 2602786946457749208 -->\n",
       "<g class=\"node\" id=\"node8\"><title>2602786946457749208</title>\n",
       "<ellipse cx=\"57.0057\" cy=\"-57.0057\" fill=\"none\" rx=\"57.0114\" ry=\"57.0114\" stroke=\"black\"/>\n",
       "<text font-family=\"Times,serif\" font-size=\"14.00\" text-anchor=\"middle\" x=\"57.0057\" y=\"-52.8057\">load_data(...)</text>\n",
       "</g>\n",
       "<!-- 2602786946457749208&#45;&gt;8302839576455506707 -->\n",
       "<g class=\"edge\" id=\"edge7\"><title>2602786946457749208-&gt;8302839576455506707</title>\n",
       "<path d=\"M62.1229,-113.786C62.9554,-122.861 63.7836,-131.889 64.5151,-139.862\" fill=\"none\" stroke=\"black\"/>\n",
       "<polygon fill=\"black\" points=\"61.0449,-140.348 65.4439,-149.987 68.0156,-139.709 61.0449,-140.348\" stroke=\"black\"/>\n",
       "</g>\n",
       "</g>\n",
       "</svg>"
      ],
      "text/plain": [
       "<IPython.core.display.SVG object>"
      ]
     },
     "execution_count": 5,
     "metadata": {},
     "output_type": "execute_result"
    }
   ],
   "source": [
    "g.visualize(format='svg')"
   ]
  },
  {
   "cell_type": "code",
   "execution_count": 6,
   "metadata": {
    "collapsed": false
   },
   "outputs": [
    {
     "data": {
      "text/plain": [
       "{'analyze_data-d751297ccc2e5332fd707c4df502e736': (<function __main__.analyze_data>,\n",
       "  'cleaned_data'),\n",
       " 'cleaned_data': (<function apply>,\n",
       "  <function __main__.clean_data>,\n",
       "  [],\n",
       "  (dict, [['other', 'key_data2'], ['data', 'key_data1']])),\n",
       " 'key_data1': (<function apply>,\n",
       "  <function __main__.load_data>,\n",
       "  [],\n",
       "  (dict, [['option', 10]])),\n",
       " 'key_data2': (<function apply>,\n",
       "  <function __main__.load_data>,\n",
       "  [],\n",
       "  (dict, [['option', 20]]))}"
      ]
     },
     "execution_count": 6,
     "metadata": {},
     "output_type": "execute_result"
    }
   ],
   "source": [
    "g.dask"
   ]
  },
  {
   "cell_type": "code",
   "execution_count": 7,
   "metadata": {
    "collapsed": false
   },
   "outputs": [
    {
     "data": {
      "text/plain": [
       "{}"
      ]
     },
     "execution_count": 7,
     "metadata": {},
     "output_type": "execute_result"
    }
   ],
   "source": [
    "IS_COMPUTED"
   ]
  },
  {
   "cell_type": "code",
   "execution_count": 8,
   "metadata": {
    "collapsed": false
   },
   "outputs": [
    {
     "name": "stdout",
     "output_type": "stream",
     "text": [
      "load data ...\n",
      "{'option': 10}\n",
      "save data with key key_data1 ...\n",
      "load data ...\n",
      "{'option': 20}\n",
      "save data with key key_data2 ...\n",
      "clean data ...\n",
      "{'other': \"data_{'option': 20}\"}\n",
      "analyze data ...\n",
      "save data with key analyze_data-d751297ccc2e5332fd707c4df502e736 ...\n"
     ]
    },
    {
     "data": {
      "text/plain": [
       "[\"analyzed_cleaned_data_{'option': 10}_other_data_{'option': 20}\"]"
      ]
     },
     "execution_count": 8,
     "metadata": {},
     "output_type": "execute_result"
    }
   ],
   "source": [
    "g.compute()"
   ]
  },
  {
   "cell_type": "code",
   "execution_count": 9,
   "metadata": {
    "collapsed": false
   },
   "outputs": [
    {
     "data": {
      "image/svg+xml": [
       "<svg height=\"643pt\" viewBox=\"0.00 0.00 254.01 643.40\" width=\"254pt\" xmlns=\"http://www.w3.org/2000/svg\" xmlns:xlink=\"http://www.w3.org/1999/xlink\">\n",
       "<g class=\"graph\" id=\"graph0\" transform=\"scale(1 1) rotate(0) translate(4 639.397)\">\n",
       "<title>%3</title>\n",
       "<polygon fill=\"white\" points=\"-4,4 -4,-639.397 250.011,-639.397 250.011,4 -4,4\" stroke=\"none\"/>\n",
       "<!-- 8302839576455506704 -->\n",
       "<g class=\"node\" id=\"node1\"><title>8302839576455506704</title>\n",
       "<polygon fill=\"green\" points=\"215.538,-186.011 142.473,-186.011 142.473,-150.011 215.538,-150.011 215.538,-186.011\" stroke=\"green\"/>\n",
       "<text font-family=\"Times,serif\" font-size=\"14.00\" text-anchor=\"middle\" x=\"179.006\" y=\"-163.811\">key_data1</text>\n",
       "</g>\n",
       "<!-- &#45;6511657930570053112 -->\n",
       "<g class=\"node\" id=\"node4\"><title>-6511657930570053112</title>\n",
       "<ellipse cx=\"123.006\" cy=\"-282.446\" fill=\"none\" rx=\"60.3686\" ry=\"60.3686\" stroke=\"black\"/>\n",
       "<text font-family=\"Times,serif\" font-size=\"14.00\" text-anchor=\"middle\" x=\"123.006\" y=\"-278.246\">clean_data(...)</text>\n",
       "</g>\n",
       "<!-- 8302839576455506704&#45;&gt;&#45;6511657930570053112 -->\n",
       "<g class=\"edge\" id=\"edge3\"><title>8302839576455506704-&gt;-6511657930570053112</title>\n",
       "<path d=\"M170.5,-186.088C166.014,-195.095 160.202,-206.764 154.192,-218.831\" fill=\"none\" stroke=\"black\"/>\n",
       "<polygon fill=\"black\" points=\"150.901,-217.588 149.576,-228.099 157.167,-220.709 150.901,-217.588\" stroke=\"black\"/>\n",
       "</g>\n",
       "<!-- 2602785972972244883 -->\n",
       "<g class=\"node\" id=\"node2\"><title>2602785972972244883</title>\n",
       "<ellipse cx=\"189.006\" cy=\"-57.0057\" fill=\"none\" rx=\"57.0114\" ry=\"57.0114\" stroke=\"black\"/>\n",
       "<text font-family=\"Times,serif\" font-size=\"14.00\" text-anchor=\"middle\" x=\"189.006\" y=\"-52.8057\">load_data(...)</text>\n",
       "</g>\n",
       "<!-- 2602785972972244883&#45;&gt;8302839576455506704 -->\n",
       "<g class=\"edge\" id=\"edge1\"><title>2602785972972244883-&gt;8302839576455506704</title>\n",
       "<path d=\"M183.889,-113.786C183.056,-122.861 182.228,-131.889 181.496,-139.862\" fill=\"none\" stroke=\"black\"/>\n",
       "<polygon fill=\"black\" points=\"177.996,-139.709 180.568,-149.987 184.967,-140.348 177.996,-139.709\" stroke=\"black\"/>\n",
       "</g>\n",
       "<!-- 1301405446878381891 -->\n",
       "<g class=\"node\" id=\"node3\"><title>1301405446878381891</title>\n",
       "<polygon fill=\"none\" points=\"167.568,-414.88 78.4432,-414.88 78.4432,-378.88 167.568,-378.88 167.568,-414.88\" stroke=\"black\"/>\n",
       "<text font-family=\"Times,serif\" font-size=\"14.00\" text-anchor=\"middle\" x=\"123.006\" y=\"-392.68\">cleaned_data</text>\n",
       "</g>\n",
       "<!-- &#45;8485026711028619945 -->\n",
       "<g class=\"node\" id=\"node7\"><title>-8485026711028619945</title>\n",
       "<ellipse cx=\"123.006\" cy=\"-507.139\" fill=\"none\" rx=\"56.0183\" ry=\"56.0183\" stroke=\"black\"/>\n",
       "<text font-family=\"Times,serif\" font-size=\"14.00\" text-anchor=\"middle\" x=\"123.006\" y=\"-502.939\">analyze_data</text>\n",
       "</g>\n",
       "<!-- 1301405446878381891&#45;&gt;&#45;8485026711028619945 -->\n",
       "<g class=\"edge\" id=\"edge6\"><title>1301405446878381891-&gt;-8485026711028619945</title>\n",
       "<path d=\"M123.006,-415.274C123.006,-422.472 123.006,-431.312 123.006,-440.622\" fill=\"none\" stroke=\"black\"/>\n",
       "<polygon fill=\"black\" points=\"119.506,-440.855 123.006,-450.855 126.506,-440.855 119.506,-440.855\" stroke=\"black\"/>\n",
       "</g>\n",
       "<!-- &#45;6511657930570053112&#45;&gt;1301405446878381891 -->\n",
       "<g class=\"edge\" id=\"edge2\"><title>-6511657930570053112-&gt;1301405446878381891</title>\n",
       "<path d=\"M123.006,-342.955C123.006,-351.834 123.006,-360.603 123.006,-368.372\" fill=\"none\" stroke=\"black\"/>\n",
       "<polygon fill=\"black\" points=\"119.506,-368.597 123.006,-378.597 126.506,-368.597 119.506,-368.597\" stroke=\"black\"/>\n",
       "</g>\n",
       "<!-- 8302839576455506707 -->\n",
       "<g class=\"node\" id=\"node5\"><title>8302839576455506707</title>\n",
       "<polygon fill=\"green\" points=\"103.538,-186.011 30.473,-186.011 30.473,-150.011 103.538,-150.011 103.538,-186.011\" stroke=\"green\"/>\n",
       "<text font-family=\"Times,serif\" font-size=\"14.00\" text-anchor=\"middle\" x=\"67.0057\" y=\"-163.811\">key_data2</text>\n",
       "</g>\n",
       "<!-- 8302839576455506707&#45;&gt;&#45;6511657930570053112 -->\n",
       "<g class=\"edge\" id=\"edge4\"><title>8302839576455506707-&gt;-6511657930570053112</title>\n",
       "<path d=\"M75.5109,-186.088C79.9972,-195.095 85.8091,-206.764 91.8194,-218.831\" fill=\"none\" stroke=\"black\"/>\n",
       "<polygon fill=\"black\" points=\"88.8443,-220.709 96.4356,-228.099 95.1101,-217.588 88.8443,-220.709\" stroke=\"black\"/>\n",
       "</g>\n",
       "<!-- 6301117075596542908 -->\n",
       "<g class=\"node\" id=\"node6\"><title>6301117075596542908</title>\n",
       "<polygon fill=\"green\" points=\"176.731,-635.397 69.2807,-635.397 69.2807,-599.397 176.731,-599.397 176.731,-635.397\" stroke=\"green\"/>\n",
       "<text font-family=\"Times,serif\" font-size=\"14.00\" text-anchor=\"middle\" x=\"123.006\" y=\"-613.197\">analyze_data-#0</text>\n",
       "</g>\n",
       "<!-- &#45;8485026711028619945&#45;&gt;6301117075596542908 -->\n",
       "<g class=\"edge\" id=\"edge5\"><title>-8485026711028619945-&gt;6301117075596542908</title>\n",
       "<path d=\"M123.006,-563.536C123.006,-572.305 123.006,-581.03 123.006,-588.789\" fill=\"none\" stroke=\"black\"/>\n",
       "<polygon fill=\"black\" points=\"119.506,-589.019 123.006,-599.019 126.506,-589.019 119.506,-589.019\" stroke=\"black\"/>\n",
       "</g>\n",
       "<!-- 2602786946457749208 -->\n",
       "<g class=\"node\" id=\"node8\"><title>2602786946457749208</title>\n",
       "<ellipse cx=\"57.0057\" cy=\"-57.0057\" fill=\"none\" rx=\"57.0114\" ry=\"57.0114\" stroke=\"black\"/>\n",
       "<text font-family=\"Times,serif\" font-size=\"14.00\" text-anchor=\"middle\" x=\"57.0057\" y=\"-52.8057\">load_data(...)</text>\n",
       "</g>\n",
       "<!-- 2602786946457749208&#45;&gt;8302839576455506707 -->\n",
       "<g class=\"edge\" id=\"edge7\"><title>2602786946457749208-&gt;8302839576455506707</title>\n",
       "<path d=\"M62.1229,-113.786C62.9554,-122.861 63.7836,-131.889 64.5151,-139.862\" fill=\"none\" stroke=\"black\"/>\n",
       "<polygon fill=\"black\" points=\"61.0449,-140.348 65.4439,-149.987 68.0156,-139.709 61.0449,-140.348\" stroke=\"black\"/>\n",
       "</g>\n",
       "</g>\n",
       "</svg>"
      ],
      "text/plain": [
       "<IPython.core.display.SVG object>"
      ]
     },
     "execution_count": 9,
     "metadata": {},
     "output_type": "execute_result"
    }
   ],
   "source": [
    "g.visualize(format='svg')"
   ]
  },
  {
   "cell_type": "code",
   "execution_count": 10,
   "metadata": {
    "collapsed": false
   },
   "outputs": [
    {
     "data": {
      "text/plain": [
       "{'analyze_data-d751297ccc2e5332fd707c4df502e736': (<function __main__.load>,),\n",
       " 'cleaned_data': (<function apply>,\n",
       "  <function __main__.clean_data>,\n",
       "  [],\n",
       "  (dict, [['other', 'key_data2'], ['data', 'key_data1']])),\n",
       " 'key_data1': (<function __main__.load>,),\n",
       " 'key_data2': (<function __main__.load>,)}"
      ]
     },
     "execution_count": 10,
     "metadata": {},
     "output_type": "execute_result"
    }
   ],
   "source": [
    "g.dask"
   ]
  },
  {
   "cell_type": "code",
   "execution_count": 11,
   "metadata": {
    "collapsed": false
   },
   "outputs": [
    {
     "data": {
      "text/plain": [
       "{'analyze_data-d751297ccc2e5332fd707c4df502e736': \"analyzed_cleaned_data_{'option': 10}_other_data_{'option': 20}\",\n",
       " 'key_data1': \"data_{'option': 10}\",\n",
       " 'key_data2': \"data_{'option': 20}\"}"
      ]
     },
     "execution_count": 11,
     "metadata": {},
     "output_type": "execute_result"
    }
   ],
   "source": [
    "IS_COMPUTED"
   ]
  },
  {
   "cell_type": "code",
   "execution_count": 12,
   "metadata": {
    "collapsed": false
   },
   "outputs": [
    {
     "name": "stdout",
     "output_type": "stream",
     "text": [
      "load data for key key_data1 ...\n",
      "load data for key key_data2 ...\n",
      "load data for key analyze_data-d751297ccc2e5332fd707c4df502e736 ...\n",
      "clean data ...\n",
      "{'other': \"data_{'option': 20}\"}\n"
     ]
    },
    {
     "data": {
      "text/plain": [
       "[\"cleaned_data_{'option': 10}_other_data_{'option': 20}\",\n",
       " \"analyzed_cleaned_data_{'option': 10}_other_data_{'option': 20}\"]"
      ]
     },
     "execution_count": 12,
     "metadata": {},
     "output_type": "execute_result"
    }
   ],
   "source": [
    "g.compute()"
   ]
  },
  {
   "cell_type": "markdown",
   "metadata": {},
   "source": [
    "If we instantiate another graph, it automatically detect that some data has already been computed."
   ]
  },
  {
   "cell_type": "code",
   "execution_count": 13,
   "metadata": {
    "collapsed": true
   },
   "outputs": [],
   "source": [
    "g = setup_graph()"
   ]
  },
  {
   "cell_type": "code",
   "execution_count": 14,
   "metadata": {
    "collapsed": false
   },
   "outputs": [
    {
     "data": {
      "image/svg+xml": [
       "<svg height=\"643pt\" viewBox=\"0.00 0.00 254.01 643.40\" width=\"254pt\" xmlns=\"http://www.w3.org/2000/svg\" xmlns:xlink=\"http://www.w3.org/1999/xlink\">\n",
       "<g class=\"graph\" id=\"graph0\" transform=\"scale(1 1) rotate(0) translate(4 639.397)\">\n",
       "<title>%3</title>\n",
       "<polygon fill=\"white\" points=\"-4,4 -4,-639.397 250.011,-639.397 250.011,4 -4,4\" stroke=\"none\"/>\n",
       "<!-- 8302839576455506704 -->\n",
       "<g class=\"node\" id=\"node1\"><title>8302839576455506704</title>\n",
       "<polygon fill=\"green\" points=\"215.538,-186.011 142.473,-186.011 142.473,-150.011 215.538,-150.011 215.538,-186.011\" stroke=\"green\"/>\n",
       "<text font-family=\"Times,serif\" font-size=\"14.00\" text-anchor=\"middle\" x=\"179.006\" y=\"-163.811\">key_data1</text>\n",
       "</g>\n",
       "<!-- &#45;6511657930570053112 -->\n",
       "<g class=\"node\" id=\"node4\"><title>-6511657930570053112</title>\n",
       "<ellipse cx=\"123.006\" cy=\"-282.446\" fill=\"none\" rx=\"60.3686\" ry=\"60.3686\" stroke=\"black\"/>\n",
       "<text font-family=\"Times,serif\" font-size=\"14.00\" text-anchor=\"middle\" x=\"123.006\" y=\"-278.246\">clean_data(...)</text>\n",
       "</g>\n",
       "<!-- 8302839576455506704&#45;&gt;&#45;6511657930570053112 -->\n",
       "<g class=\"edge\" id=\"edge3\"><title>8302839576455506704-&gt;-6511657930570053112</title>\n",
       "<path d=\"M170.5,-186.088C166.014,-195.095 160.202,-206.764 154.192,-218.831\" fill=\"none\" stroke=\"black\"/>\n",
       "<polygon fill=\"black\" points=\"150.901,-217.588 149.576,-228.099 157.167,-220.709 150.901,-217.588\" stroke=\"black\"/>\n",
       "</g>\n",
       "<!-- 2602785972972244883 -->\n",
       "<g class=\"node\" id=\"node2\"><title>2602785972972244883</title>\n",
       "<ellipse cx=\"189.006\" cy=\"-57.0057\" fill=\"none\" rx=\"57.0114\" ry=\"57.0114\" stroke=\"black\"/>\n",
       "<text font-family=\"Times,serif\" font-size=\"14.00\" text-anchor=\"middle\" x=\"189.006\" y=\"-52.8057\">load_data(...)</text>\n",
       "</g>\n",
       "<!-- 2602785972972244883&#45;&gt;8302839576455506704 -->\n",
       "<g class=\"edge\" id=\"edge1\"><title>2602785972972244883-&gt;8302839576455506704</title>\n",
       "<path d=\"M183.889,-113.786C183.056,-122.861 182.228,-131.889 181.496,-139.862\" fill=\"none\" stroke=\"black\"/>\n",
       "<polygon fill=\"black\" points=\"177.996,-139.709 180.568,-149.987 184.967,-140.348 177.996,-139.709\" stroke=\"black\"/>\n",
       "</g>\n",
       "<!-- 1301405446878381891 -->\n",
       "<g class=\"node\" id=\"node3\"><title>1301405446878381891</title>\n",
       "<polygon fill=\"none\" points=\"167.568,-414.88 78.4432,-414.88 78.4432,-378.88 167.568,-378.88 167.568,-414.88\" stroke=\"black\"/>\n",
       "<text font-family=\"Times,serif\" font-size=\"14.00\" text-anchor=\"middle\" x=\"123.006\" y=\"-392.68\">cleaned_data</text>\n",
       "</g>\n",
       "<!-- &#45;8485026711028619945 -->\n",
       "<g class=\"node\" id=\"node7\"><title>-8485026711028619945</title>\n",
       "<ellipse cx=\"123.006\" cy=\"-507.139\" fill=\"none\" rx=\"56.0183\" ry=\"56.0183\" stroke=\"black\"/>\n",
       "<text font-family=\"Times,serif\" font-size=\"14.00\" text-anchor=\"middle\" x=\"123.006\" y=\"-502.939\">analyze_data</text>\n",
       "</g>\n",
       "<!-- 1301405446878381891&#45;&gt;&#45;8485026711028619945 -->\n",
       "<g class=\"edge\" id=\"edge6\"><title>1301405446878381891-&gt;-8485026711028619945</title>\n",
       "<path d=\"M123.006,-415.274C123.006,-422.472 123.006,-431.312 123.006,-440.622\" fill=\"none\" stroke=\"black\"/>\n",
       "<polygon fill=\"black\" points=\"119.506,-440.855 123.006,-450.855 126.506,-440.855 119.506,-440.855\" stroke=\"black\"/>\n",
       "</g>\n",
       "<!-- &#45;6511657930570053112&#45;&gt;1301405446878381891 -->\n",
       "<g class=\"edge\" id=\"edge2\"><title>-6511657930570053112-&gt;1301405446878381891</title>\n",
       "<path d=\"M123.006,-342.955C123.006,-351.834 123.006,-360.603 123.006,-368.372\" fill=\"none\" stroke=\"black\"/>\n",
       "<polygon fill=\"black\" points=\"119.506,-368.597 123.006,-378.597 126.506,-368.597 119.506,-368.597\" stroke=\"black\"/>\n",
       "</g>\n",
       "<!-- 8302839576455506707 -->\n",
       "<g class=\"node\" id=\"node5\"><title>8302839576455506707</title>\n",
       "<polygon fill=\"green\" points=\"103.538,-186.011 30.473,-186.011 30.473,-150.011 103.538,-150.011 103.538,-186.011\" stroke=\"green\"/>\n",
       "<text font-family=\"Times,serif\" font-size=\"14.00\" text-anchor=\"middle\" x=\"67.0057\" y=\"-163.811\">key_data2</text>\n",
       "</g>\n",
       "<!-- 8302839576455506707&#45;&gt;&#45;6511657930570053112 -->\n",
       "<g class=\"edge\" id=\"edge4\"><title>8302839576455506707-&gt;-6511657930570053112</title>\n",
       "<path d=\"M75.5109,-186.088C79.9972,-195.095 85.8091,-206.764 91.8194,-218.831\" fill=\"none\" stroke=\"black\"/>\n",
       "<polygon fill=\"black\" points=\"88.8443,-220.709 96.4356,-228.099 95.1101,-217.588 88.8443,-220.709\" stroke=\"black\"/>\n",
       "</g>\n",
       "<!-- 6301117075596542908 -->\n",
       "<g class=\"node\" id=\"node6\"><title>6301117075596542908</title>\n",
       "<polygon fill=\"green\" points=\"176.731,-635.397 69.2807,-635.397 69.2807,-599.397 176.731,-599.397 176.731,-635.397\" stroke=\"green\"/>\n",
       "<text font-family=\"Times,serif\" font-size=\"14.00\" text-anchor=\"middle\" x=\"123.006\" y=\"-613.197\">analyze_data-#0</text>\n",
       "</g>\n",
       "<!-- &#45;8485026711028619945&#45;&gt;6301117075596542908 -->\n",
       "<g class=\"edge\" id=\"edge5\"><title>-8485026711028619945-&gt;6301117075596542908</title>\n",
       "<path d=\"M123.006,-563.536C123.006,-572.305 123.006,-581.03 123.006,-588.789\" fill=\"none\" stroke=\"black\"/>\n",
       "<polygon fill=\"black\" points=\"119.506,-589.019 123.006,-599.019 126.506,-589.019 119.506,-589.019\" stroke=\"black\"/>\n",
       "</g>\n",
       "<!-- 2602786946457749208 -->\n",
       "<g class=\"node\" id=\"node8\"><title>2602786946457749208</title>\n",
       "<ellipse cx=\"57.0057\" cy=\"-57.0057\" fill=\"none\" rx=\"57.0114\" ry=\"57.0114\" stroke=\"black\"/>\n",
       "<text font-family=\"Times,serif\" font-size=\"14.00\" text-anchor=\"middle\" x=\"57.0057\" y=\"-52.8057\">load_data(...)</text>\n",
       "</g>\n",
       "<!-- 2602786946457749208&#45;&gt;8302839576455506707 -->\n",
       "<g class=\"edge\" id=\"edge7\"><title>2602786946457749208-&gt;8302839576455506707</title>\n",
       "<path d=\"M62.1229,-113.786C62.9554,-122.861 63.7836,-131.889 64.5151,-139.862\" fill=\"none\" stroke=\"black\"/>\n",
       "<polygon fill=\"black\" points=\"61.0449,-140.348 65.4439,-149.987 68.0156,-139.709 61.0449,-140.348\" stroke=\"black\"/>\n",
       "</g>\n",
       "</g>\n",
       "</svg>"
      ],
      "text/plain": [
       "<IPython.core.display.SVG object>"
      ]
     },
     "execution_count": 14,
     "metadata": {},
     "output_type": "execute_result"
    }
   ],
   "source": [
    "g.visualize(format='svg')"
   ]
  },
  {
   "cell_type": "markdown",
   "metadata": {},
   "source": [
    "We can visualize the graph with methods replaced by load methods on disk."
   ]
  },
  {
   "cell_type": "code",
   "execution_count": 15,
   "metadata": {
    "collapsed": false
   },
   "outputs": [
    {
     "data": {
      "image/svg+xml": [
       "<svg height=\"360pt\" viewBox=\"0.00 0.00 299.63 359.53\" width=\"300pt\" xmlns=\"http://www.w3.org/2000/svg\" xmlns:xlink=\"http://www.w3.org/1999/xlink\">\n",
       "<g class=\"graph\" id=\"graph0\" transform=\"scale(1 1) rotate(0) translate(4 355.533)\">\n",
       "<title>%3</title>\n",
       "<polygon fill=\"white\" points=\"-4,4 -4,-355.533 295.628,-355.533 295.628,4 -4,4\" stroke=\"none\"/>\n",
       "<!-- 8302839576455506704 -->\n",
       "<g class=\"node\" id=\"node1\"><title>8302839576455506704</title>\n",
       "<polygon fill=\"green\" points=\"165.298,-122.665 92.2329,-122.665 92.2329,-86.6649 165.298,-86.6649 165.298,-122.665\" stroke=\"green\"/>\n",
       "<text font-family=\"Times,serif\" font-size=\"14.00\" text-anchor=\"middle\" x=\"128.766\" y=\"-100.465\">key_data1</text>\n",
       "</g>\n",
       "<!-- &#45;6511657930570053112 -->\n",
       "<g class=\"node\" id=\"node4\"><title>-6511657930570053112</title>\n",
       "<ellipse cx=\"82.7656\" cy=\"-219.099\" fill=\"none\" rx=\"60.3686\" ry=\"60.3686\" stroke=\"black\"/>\n",
       "<text font-family=\"Times,serif\" font-size=\"14.00\" text-anchor=\"middle\" x=\"82.7656\" y=\"-214.899\">clean_data(...)</text>\n",
       "</g>\n",
       "<!-- 8302839576455506704&#45;&gt;&#45;6511657930570053112 -->\n",
       "<g class=\"edge\" id=\"edge3\"><title>8302839576455506704-&gt;-6511657930570053112</title>\n",
       "<path d=\"M121.779,-122.741C118.323,-131.188 113.91,-141.975 109.303,-153.237\" fill=\"none\" stroke=\"black\"/>\n",
       "<polygon fill=\"black\" points=\"105.951,-152.187 105.403,-162.767 112.43,-154.837 105.951,-152.187\" stroke=\"black\"/>\n",
       "</g>\n",
       "<!-- 2602785972972244883 -->\n",
       "<g class=\"node\" id=\"node2\"><title>2602785972972244883</title>\n",
       "<ellipse cx=\"128.766\" cy=\"-25.3324\" fill=\"none\" rx=\"25.166\" ry=\"25.166\" stroke=\"black\"/>\n",
       "<text font-family=\"Times,serif\" font-size=\"14.00\" text-anchor=\"middle\" x=\"128.766\" y=\"-21.1324\">load</text>\n",
       "</g>\n",
       "<!-- 2602785972972244883&#45;&gt;8302839576455506704 -->\n",
       "<g class=\"edge\" id=\"edge1\"><title>2602785972972244883-&gt;8302839576455506704</title>\n",
       "<path d=\"M128.766,-50.8009C128.766,-58.8005 128.766,-67.7415 128.766,-75.962\" fill=\"none\" stroke=\"black\"/>\n",
       "<polygon fill=\"black\" points=\"125.266,-76.2135 128.766,-86.2135 132.266,-76.2136 125.266,-76.2135\" stroke=\"black\"/>\n",
       "</g>\n",
       "<!-- 1301405446878381891 -->\n",
       "<g class=\"node\" id=\"node3\"><title>1301405446878381891</title>\n",
       "<polygon fill=\"none\" points=\"127.328,-351.533 38.2031,-351.533 38.2031,-315.533 127.328,-315.533 127.328,-351.533\" stroke=\"black\"/>\n",
       "<text font-family=\"Times,serif\" font-size=\"14.00\" text-anchor=\"middle\" x=\"82.7656\" y=\"-329.333\">cleaned_data</text>\n",
       "</g>\n",
       "<!-- &#45;6511657930570053112&#45;&gt;1301405446878381891 -->\n",
       "<g class=\"edge\" id=\"edge2\"><title>-6511657930570053112-&gt;1301405446878381891</title>\n",
       "<path d=\"M82.7656,-279.609C82.7656,-288.488 82.7656,-297.257 82.7656,-305.026\" fill=\"none\" stroke=\"black\"/>\n",
       "<polygon fill=\"black\" points=\"79.2657,-305.25 82.7656,-315.25 86.2657,-305.25 79.2657,-305.25\" stroke=\"black\"/>\n",
       "</g>\n",
       "<!-- 8302839576455506707 -->\n",
       "<g class=\"node\" id=\"node5\"><title>8302839576455506707</title>\n",
       "<polygon fill=\"green\" points=\"73.2984,-122.665 0.23289,-122.665 0.23289,-86.6649 73.2984,-86.6649 73.2984,-122.665\" stroke=\"green\"/>\n",
       "<text font-family=\"Times,serif\" font-size=\"14.00\" text-anchor=\"middle\" x=\"36.7656\" y=\"-100.465\">key_data2</text>\n",
       "</g>\n",
       "<!-- 8302839576455506707&#45;&gt;&#45;6511657930570053112 -->\n",
       "<g class=\"edge\" id=\"edge4\"><title>8302839576455506707-&gt;-6511657930570053112</title>\n",
       "<path d=\"M43.752,-122.741C47.2079,-131.188 51.6213,-141.975 56.2287,-153.237\" fill=\"none\" stroke=\"black\"/>\n",
       "<polygon fill=\"black\" points=\"53.1017,-154.837 60.1278,-162.767 59.5805,-152.187 53.1017,-154.837\" stroke=\"black\"/>\n",
       "</g>\n",
       "<!-- 6301117075596542908 -->\n",
       "<g class=\"node\" id=\"node6\"><title>6301117075596542908</title>\n",
       "<polygon fill=\"green\" points=\"291.491,-122.665 184.041,-122.665 184.041,-86.6649 291.491,-86.6649 291.491,-122.665\" stroke=\"green\"/>\n",
       "<text font-family=\"Times,serif\" font-size=\"14.00\" text-anchor=\"middle\" x=\"237.766\" y=\"-100.465\">analyze_data-#0</text>\n",
       "</g>\n",
       "<!-- &#45;8485026711028619945 -->\n",
       "<g class=\"node\" id=\"node7\"><title>-8485026711028619945</title>\n",
       "<ellipse cx=\"237.766\" cy=\"-25.3324\" fill=\"none\" rx=\"25.166\" ry=\"25.166\" stroke=\"black\"/>\n",
       "<text font-family=\"Times,serif\" font-size=\"14.00\" text-anchor=\"middle\" x=\"237.766\" y=\"-21.1324\">load</text>\n",
       "</g>\n",
       "<!-- &#45;8485026711028619945&#45;&gt;6301117075596542908 -->\n",
       "<g class=\"edge\" id=\"edge5\"><title>-8485026711028619945-&gt;6301117075596542908</title>\n",
       "<path d=\"M237.766,-50.8009C237.766,-58.8005 237.766,-67.7415 237.766,-75.962\" fill=\"none\" stroke=\"black\"/>\n",
       "<polygon fill=\"black\" points=\"234.266,-76.2135 237.766,-86.2135 241.266,-76.2136 234.266,-76.2135\" stroke=\"black\"/>\n",
       "</g>\n",
       "<!-- 2602786946457749208 -->\n",
       "<g class=\"node\" id=\"node8\"><title>2602786946457749208</title>\n",
       "<ellipse cx=\"36.7656\" cy=\"-25.3324\" fill=\"none\" rx=\"25.166\" ry=\"25.166\" stroke=\"black\"/>\n",
       "<text font-family=\"Times,serif\" font-size=\"14.00\" text-anchor=\"middle\" x=\"36.7656\" y=\"-21.1324\">load</text>\n",
       "</g>\n",
       "<!-- 2602786946457749208&#45;&gt;8302839576455506707 -->\n",
       "<g class=\"edge\" id=\"edge6\"><title>2602786946457749208-&gt;8302839576455506707</title>\n",
       "<path d=\"M36.7656,-50.8009C36.7656,-58.8005 36.7656,-67.7415 36.7656,-75.962\" fill=\"none\" stroke=\"black\"/>\n",
       "<polygon fill=\"black\" points=\"33.2657,-76.2135 36.7656,-86.2135 40.2657,-76.2136 33.2657,-76.2135\" stroke=\"black\"/>\n",
       "</g>\n",
       "</g>\n",
       "</svg>"
      ],
      "text/plain": [
       "<IPython.core.display.SVG object>"
      ]
     },
     "execution_count": 15,
     "metadata": {},
     "output_type": "execute_result"
    }
   ],
   "source": [
    "g.visualize(format='svg', raw_dask=False)"
   ]
  },
  {
   "cell_type": "markdown",
   "metadata": {},
   "source": [
    "## Persist method "
   ]
  },
  {
   "cell_type": "code",
   "execution_count": 16,
   "metadata": {
    "collapsed": false
   },
   "outputs": [
    {
     "ename": "AttributeError",
     "evalue": "'PersistentDAG' object has no attribute 'clean'",
     "output_type": "error",
     "traceback": [
      "\u001b[0;31m---------------------------------------------------------------------------\u001b[0m",
      "\u001b[0;31mAttributeError\u001b[0m                            Traceback (most recent call last)",
      "\u001b[0;32m<ipython-input-16-578256b67651>\u001b[0m in \u001b[0;36m<module>\u001b[0;34m()\u001b[0m\n\u001b[0;32m----> 1\u001b[0;31m \u001b[0mg\u001b[0m\u001b[0;34m.\u001b[0m\u001b[0mclean\u001b[0m\u001b[0;34m(\u001b[0m\u001b[0;34m)\u001b[0m\u001b[0;34m\u001b[0m\u001b[0m\n\u001b[0m",
      "\u001b[0;31mAttributeError\u001b[0m: 'PersistentDAG' object has no attribute 'clean'"
     ]
    }
   ],
   "source": [
    "g.clean()"
   ]
  },
  {
   "cell_type": "code",
   "execution_count": null,
   "metadata": {
    "collapsed": false
   },
   "outputs": [],
   "source": [
    "data = g.persist()"
   ]
  },
  {
   "cell_type": "code",
   "execution_count": null,
   "metadata": {
    "collapsed": false
   },
   "outputs": [],
   "source": [
    "data"
   ]
  },
  {
   "cell_type": "code",
   "execution_count": null,
   "metadata": {
    "collapsed": false
   },
   "outputs": [],
   "source": [
    "g.run()"
   ]
  },
  {
   "cell_type": "code",
   "execution_count": null,
   "metadata": {
    "collapsed": false
   },
   "outputs": [],
   "source": [
    "data.compute()"
   ]
  },
  {
   "cell_type": "code",
   "execution_count": null,
   "metadata": {
    "collapsed": false
   },
   "outputs": [],
   "source": [
    "IS_COMPUTED"
   ]
  },
  {
   "cell_type": "code",
   "execution_count": null,
   "metadata": {
    "collapsed": false
   },
   "outputs": [],
   "source": [
    "g.visualize(format='svg')"
   ]
  },
  {
   "cell_type": "code",
   "execution_count": null,
   "metadata": {
    "collapsed": false
   },
   "outputs": [],
   "source": [
    "data = g.submit(analyze_data, 'cleaned_data')\n",
    "data.compute()"
   ]
  },
  {
   "cell_type": "code",
   "execution_count": null,
   "metadata": {
    "collapsed": false
   },
   "outputs": [],
   "source": [
    "import dask\n",
    "with dask.set_options(get=dask.async.get_sync):\n",
    "    g.run()"
   ]
  },
  {
   "cell_type": "code",
   "execution_count": null,
   "metadata": {
    "collapsed": false
   },
   "outputs": [],
   "source": [
    "IS_COMPUTED"
   ]
  },
  {
   "cell_type": "code",
   "execution_count": null,
   "metadata": {
    "collapsed": false
   },
   "outputs": [],
   "source": [
    "%pylab inline"
   ]
  },
  {
   "cell_type": "code",
   "execution_count": null,
   "metadata": {
    "collapsed": false
   },
   "outputs": [],
   "source": [
    "graph = g.to_digraph()\n",
    "import networkx as nx\n",
    "nx.draw(graph)"
   ]
  },
  {
   "cell_type": "code",
   "execution_count": null,
   "metadata": {
    "collapsed": false,
    "scrolled": false
   },
   "outputs": [],
   "source": [
    "from distributed import Client\n",
    "client = Client()\n",
    "global IS_COMPUTED\n",
    "IS_COMPUTED = {}"
   ]
  },
  {
   "cell_type": "code",
   "execution_count": null,
   "metadata": {
    "collapsed": false
   },
   "outputs": [],
   "source": [
    "g.persist()"
   ]
  },
  {
   "cell_type": "code",
   "execution_count": null,
   "metadata": {
    "collapsed": false
   },
   "outputs": [],
   "source": [
    "g.compute()"
   ]
  },
  {
   "cell_type": "code",
   "execution_count": null,
   "metadata": {
    "collapsed": false
   },
   "outputs": [],
   "source": [
    "g.visualize(format='svg')"
   ]
  },
  {
   "cell_type": "code",
   "execution_count": null,
   "metadata": {
    "collapsed": true
   },
   "outputs": [],
   "source": [
    "# TODO: we have to use a real serializer in order to make things work with futures."
   ]
  }
 ],
 "metadata": {
  "kernelspec": {
   "display_name": "Python 2",
   "language": "python",
   "name": "python2"
  },
  "language_info": {
   "codemirror_mode": {
    "name": "ipython",
    "version": 2
   },
   "file_extension": ".py",
   "mimetype": "text/x-python",
   "name": "python",
   "nbconvert_exporter": "python",
   "pygments_lexer": "ipython2",
   "version": "2.7.11"
  }
 },
 "nbformat": 4,
 "nbformat_minor": 0
}
